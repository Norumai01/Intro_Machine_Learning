{
 "cells": [
  {
   "cell_type": "code",
   "execution_count": 236,
   "id": "7e8c6b53",
   "metadata": {},
   "outputs": [],
   "source": [
    "from sklearn.preprocessing import StandardScaler\n",
    "from sklearn.model_selection import train_test_split\n",
    "import matplotlib.pyplot as plt\n",
    "import numpy as np\n",
    "import pandas as pd\n",
    "import torch\n",
    "import torch.nn as nn\n",
    "import torch.optim as optim"
   ]
  },
  {
   "cell_type": "code",
   "execution_count": 237,
   "id": "770d2c3d",
   "metadata": {},
   "outputs": [
    {
     "data": {
      "text/html": [
       "<div>\n",
       "<style scoped>\n",
       "    .dataframe tbody tr th:only-of-type {\n",
       "        vertical-align: middle;\n",
       "    }\n",
       "\n",
       "    .dataframe tbody tr th {\n",
       "        vertical-align: top;\n",
       "    }\n",
       "\n",
       "    .dataframe thead th {\n",
       "        text-align: right;\n",
       "    }\n",
       "</style>\n",
       "<table border=\"1\" class=\"dataframe\">\n",
       "  <thead>\n",
       "    <tr style=\"text-align: right;\">\n",
       "      <th></th>\n",
       "      <th>area</th>\n",
       "      <th>bedrooms</th>\n",
       "      <th>bathrooms</th>\n",
       "      <th>stories</th>\n",
       "      <th>parking</th>\n",
       "      <th>price</th>\n",
       "    </tr>\n",
       "  </thead>\n",
       "  <tbody>\n",
       "    <tr>\n",
       "      <th>0</th>\n",
       "      <td>7420</td>\n",
       "      <td>4</td>\n",
       "      <td>2</td>\n",
       "      <td>3</td>\n",
       "      <td>2</td>\n",
       "      <td>13300000</td>\n",
       "    </tr>\n",
       "    <tr>\n",
       "      <th>1</th>\n",
       "      <td>8960</td>\n",
       "      <td>4</td>\n",
       "      <td>4</td>\n",
       "      <td>4</td>\n",
       "      <td>3</td>\n",
       "      <td>12250000</td>\n",
       "    </tr>\n",
       "    <tr>\n",
       "      <th>2</th>\n",
       "      <td>9960</td>\n",
       "      <td>3</td>\n",
       "      <td>2</td>\n",
       "      <td>2</td>\n",
       "      <td>2</td>\n",
       "      <td>12250000</td>\n",
       "    </tr>\n",
       "    <tr>\n",
       "      <th>3</th>\n",
       "      <td>7500</td>\n",
       "      <td>4</td>\n",
       "      <td>2</td>\n",
       "      <td>2</td>\n",
       "      <td>3</td>\n",
       "      <td>12215000</td>\n",
       "    </tr>\n",
       "    <tr>\n",
       "      <th>4</th>\n",
       "      <td>7420</td>\n",
       "      <td>4</td>\n",
       "      <td>1</td>\n",
       "      <td>2</td>\n",
       "      <td>2</td>\n",
       "      <td>11410000</td>\n",
       "    </tr>\n",
       "  </tbody>\n",
       "</table>\n",
       "</div>"
      ],
      "text/plain": [
       "   area  bedrooms  bathrooms  stories  parking     price\n",
       "0  7420         4          2        3        2  13300000\n",
       "1  8960         4          4        4        3  12250000\n",
       "2  9960         3          2        2        2  12250000\n",
       "3  7500         4          2        2        3  12215000\n",
       "4  7420         4          1        2        2  11410000"
      ]
     },
     "execution_count": 237,
     "metadata": {},
     "output_type": "execute_result"
    }
   ],
   "source": [
    "housing = pd.read_csv('./Housing.csv')\n",
    "vars = ['area', 'bedrooms', 'bathrooms', 'stories', 'parking', 'price']\n",
    "data = housing[vars]\n",
    "data.head()"
   ]
  },
  {
   "cell_type": "code",
   "execution_count": 238,
   "id": "bf851fd0",
   "metadata": {},
   "outputs": [
    {
     "data": {
      "text/html": [
       "<div>\n",
       "<style scoped>\n",
       "    .dataframe tbody tr th:only-of-type {\n",
       "        vertical-align: middle;\n",
       "    }\n",
       "\n",
       "    .dataframe tbody tr th {\n",
       "        vertical-align: top;\n",
       "    }\n",
       "\n",
       "    .dataframe thead th {\n",
       "        text-align: right;\n",
       "    }\n",
       "</style>\n",
       "<table border=\"1\" class=\"dataframe\">\n",
       "  <thead>\n",
       "    <tr style=\"text-align: right;\">\n",
       "      <th></th>\n",
       "      <th>0</th>\n",
       "      <th>1</th>\n",
       "      <th>2</th>\n",
       "      <th>3</th>\n",
       "      <th>4</th>\n",
       "      <th>5</th>\n",
       "    </tr>\n",
       "  </thead>\n",
       "  <tbody>\n",
       "    <tr>\n",
       "      <th>0</th>\n",
       "      <td>1.046726</td>\n",
       "      <td>1.403419</td>\n",
       "      <td>1.421812</td>\n",
       "      <td>1.378217</td>\n",
       "      <td>1.517692</td>\n",
       "      <td>4.566365</td>\n",
       "    </tr>\n",
       "    <tr>\n",
       "      <th>1</th>\n",
       "      <td>1.757010</td>\n",
       "      <td>1.403419</td>\n",
       "      <td>5.405809</td>\n",
       "      <td>2.532024</td>\n",
       "      <td>2.679409</td>\n",
       "      <td>4.004484</td>\n",
       "    </tr>\n",
       "    <tr>\n",
       "      <th>2</th>\n",
       "      <td>2.218232</td>\n",
       "      <td>0.047278</td>\n",
       "      <td>1.421812</td>\n",
       "      <td>0.224410</td>\n",
       "      <td>1.517692</td>\n",
       "      <td>4.004484</td>\n",
       "    </tr>\n",
       "    <tr>\n",
       "      <th>3</th>\n",
       "      <td>1.083624</td>\n",
       "      <td>1.403419</td>\n",
       "      <td>1.421812</td>\n",
       "      <td>0.224410</td>\n",
       "      <td>2.679409</td>\n",
       "      <td>3.985755</td>\n",
       "    </tr>\n",
       "    <tr>\n",
       "      <th>4</th>\n",
       "      <td>1.046726</td>\n",
       "      <td>1.403419</td>\n",
       "      <td>-0.570187</td>\n",
       "      <td>0.224410</td>\n",
       "      <td>1.517692</td>\n",
       "      <td>3.554979</td>\n",
       "    </tr>\n",
       "    <tr>\n",
       "      <th>...</th>\n",
       "      <td>...</td>\n",
       "      <td>...</td>\n",
       "      <td>...</td>\n",
       "      <td>...</td>\n",
       "      <td>...</td>\n",
       "      <td>...</td>\n",
       "    </tr>\n",
       "    <tr>\n",
       "      <th>540</th>\n",
       "      <td>-0.991879</td>\n",
       "      <td>-1.308863</td>\n",
       "      <td>-0.570187</td>\n",
       "      <td>-0.929397</td>\n",
       "      <td>1.517692</td>\n",
       "      <td>-1.576868</td>\n",
       "    </tr>\n",
       "    <tr>\n",
       "      <th>541</th>\n",
       "      <td>-1.268613</td>\n",
       "      <td>0.047278</td>\n",
       "      <td>-0.570187</td>\n",
       "      <td>-0.929397</td>\n",
       "      <td>-0.805741</td>\n",
       "      <td>-1.605149</td>\n",
       "    </tr>\n",
       "    <tr>\n",
       "      <th>542</th>\n",
       "      <td>-0.705921</td>\n",
       "      <td>-1.308863</td>\n",
       "      <td>-0.570187</td>\n",
       "      <td>-0.929397</td>\n",
       "      <td>-0.805741</td>\n",
       "      <td>-1.614327</td>\n",
       "    </tr>\n",
       "    <tr>\n",
       "      <th>543</th>\n",
       "      <td>-1.033389</td>\n",
       "      <td>0.047278</td>\n",
       "      <td>-0.570187</td>\n",
       "      <td>-0.929397</td>\n",
       "      <td>-0.805741</td>\n",
       "      <td>-1.614327</td>\n",
       "    </tr>\n",
       "    <tr>\n",
       "      <th>544</th>\n",
       "      <td>-0.599839</td>\n",
       "      <td>0.047278</td>\n",
       "      <td>-0.570187</td>\n",
       "      <td>0.224410</td>\n",
       "      <td>-0.805741</td>\n",
       "      <td>-1.614327</td>\n",
       "    </tr>\n",
       "  </tbody>\n",
       "</table>\n",
       "<p>545 rows × 6 columns</p>\n",
       "</div>"
      ],
      "text/plain": [
       "            0         1         2         3         4         5\n",
       "0    1.046726  1.403419  1.421812  1.378217  1.517692  4.566365\n",
       "1    1.757010  1.403419  5.405809  2.532024  2.679409  4.004484\n",
       "2    2.218232  0.047278  1.421812  0.224410  1.517692  4.004484\n",
       "3    1.083624  1.403419  1.421812  0.224410  2.679409  3.985755\n",
       "4    1.046726  1.403419 -0.570187  0.224410  1.517692  3.554979\n",
       "..        ...       ...       ...       ...       ...       ...\n",
       "540 -0.991879 -1.308863 -0.570187 -0.929397  1.517692 -1.576868\n",
       "541 -1.268613  0.047278 -0.570187 -0.929397 -0.805741 -1.605149\n",
       "542 -0.705921 -1.308863 -0.570187 -0.929397 -0.805741 -1.614327\n",
       "543 -1.033389  0.047278 -0.570187 -0.929397 -0.805741 -1.614327\n",
       "544 -0.599839  0.047278 -0.570187  0.224410 -0.805741 -1.614327\n",
       "\n",
       "[545 rows x 6 columns]"
      ]
     },
     "execution_count": 238,
     "metadata": {},
     "output_type": "execute_result"
    }
   ],
   "source": [
    "# Scaled the dataset using standardization scaling. \n",
    "scaled = StandardScaler()\n",
    "scaled_data_raw = scaled.fit_transform(data.values[:,:])\n",
    "scaled_data = pd.DataFrame(scaled_data_raw)\n",
    "scaled_data"
   ]
  },
  {
   "cell_type": "code",
   "execution_count": 239,
   "id": "69e592f4",
   "metadata": {},
   "outputs": [],
   "source": [
    "X_data = torch.tensor(scaled_data.values[:,0:5], dtype=torch.float32)\n",
    "Y_data = torch.tensor(scaled_data.values[:,5], dtype=torch.float32)"
   ]
  },
  {
   "cell_type": "code",
   "execution_count": 240,
   "id": "3d64efcd",
   "metadata": {},
   "outputs": [
    {
     "name": "stdout",
     "output_type": "stream",
     "text": [
      "X_train = tensor([[-0.3000,  0.0473, -0.5702,  0.2244, -0.8057],\n",
      "        [-0.4868,  0.0473, -0.5702,  0.2244, -0.8057],\n",
      "        [ 0.5578,  0.0473, -0.5702, -0.9294,  1.5177],\n",
      "        [-1.1579, -1.3089, -0.5702, -0.9294,  0.3560],\n",
      "        [ 0.6916,  0.0473, -0.5702,  0.2244, -0.8057]])\n",
      "Y_train = tensor([[-0.8689],\n",
      "        [ 0.0713],\n",
      "        [ 0.5208],\n",
      "        [-1.0337],\n",
      "        [-0.2845]])\n",
      "torch.Size([436, 5]) torch.Size([109, 5]) torch.Size([436, 1]) torch.Size([109, 1])\n"
     ]
    }
   ],
   "source": [
    "# Splitting the dataset using training and validation split in Textbook\n",
    "n_samples = X_data.shape[0]\n",
    "n_val = int(0.2 * n_samples)\n",
    "\n",
    "shuffled_indices = torch.randperm(n_samples)\n",
    "\n",
    "train_indices = shuffled_indices[:-n_val]\n",
    "val_indices = shuffled_indices[-n_val:]\n",
    "\n",
    "# Commented for testing.\n",
    "#train_indices, val_indices\n",
    "\n",
    "X_train = X_data[train_indices]\n",
    "Y_train_raw = Y_data[train_indices]\n",
    "Y_train = torch.reshape(Y_train_raw, (436,1))\n",
    "\n",
    "X_val = X_data[val_indices]\n",
    "Y_val_raw = Y_data[val_indices]\n",
    "Y_val = torch.reshape(Y_val_raw, (109,1))\n",
    "print(\"X_train =\", X_train[0:5])\n",
    "print(\"Y_train =\", Y_train[0:5])\n",
    "print(X_train.size(), X_val.size(), Y_train.size(), Y_val.size())"
   ]
  },
  {
   "cell_type": "code",
   "execution_count": 241,
   "id": "9b584a56",
   "metadata": {},
   "outputs": [],
   "source": [
    "def training_loop(n_epochs, optimizer, model, loss_fn, X_train, X_val, Y_train, Y_val):\n",
    "    for epoch in range(1, n_epochs + 1):\n",
    "        t_p_train = model(X_train) # <1>\n",
    "        loss_train = loss_fn(t_p_train, Y_train)\n",
    "\n",
    "        t_p_val = model(X_val) # <1>\n",
    "        loss_val = loss_fn(t_p_val, Y_val)\n",
    "        \n",
    "        optimizer.zero_grad()\n",
    "        loss_train.backward() # <2>\n",
    "        optimizer.step()\n",
    "\n",
    "        if epoch == 1 or epoch % 40 == 0:\n",
    "            print(f\"Epoch {epoch}, Training loss {loss_train.item():.4f},\"\n",
    "                  f\" Validation loss {loss_val.item():.4f}\")\n",
    "def loss_fn(t_p, t_c):\n",
    "    squared_diffs = (t_p - t_c)**2\n",
    "    return squared_diffs.mean()"
   ]
  },
  {
   "cell_type": "code",
   "execution_count": 242,
   "id": "3a517a69",
   "metadata": {},
   "outputs": [
    {
     "data": {
      "text/plain": [
       "Sequential(\n",
       "  (hidden_linear): Linear(in_features=5, out_features=8, bias=True)\n",
       "  (hidden_activation): Tanh()\n",
       "  (output_linear): Linear(in_features=8, out_features=1, bias=True)\n",
       ")"
      ]
     },
     "execution_count": 242,
     "metadata": {},
     "output_type": "execute_result"
    }
   ],
   "source": [
    "# Creating a neural network model with 1 hidden layer. Takes in 5 features (input variables) and out 8 values with bias. \n",
    "# Output takes 8 inputs and out one value with bias. Problem 3a\n",
    "from collections import OrderedDict\n",
    "\n",
    "seq_model_one = nn.Sequential(OrderedDict([\n",
    "    ('hidden_linear', nn.Linear(5, 8)),\n",
    "    ('hidden_activation', nn.Tanh()),\n",
    "    ('output_linear', nn.Linear(8, 1))\n",
    "]))\n",
    "\n",
    "seq_model_one"
   ]
  },
  {
   "cell_type": "code",
   "execution_count": 243,
   "id": "84f1ad05",
   "metadata": {},
   "outputs": [
    {
     "name": "stdout",
     "output_type": "stream",
     "text": [
      "hidden_linear.weight torch.Size([8, 5])\n",
      "hidden_linear.bias torch.Size([8])\n",
      "output_linear.weight torch.Size([1, 8])\n",
      "output_linear.bias torch.Size([1])\n"
     ]
    }
   ],
   "source": [
    "for name, param in seq_model_one.named_parameters():\n",
    "    print(name, param.shape)"
   ]
  },
  {
   "cell_type": "code",
   "execution_count": 244,
   "id": "7c16096e",
   "metadata": {},
   "outputs": [
    {
     "name": "stdout",
     "output_type": "stream",
     "text": [
      "Training Linear Regressions's model with one hidden layer:\n",
      "Epoch 1, Training loss 1.0717, Validation loss 0.8341\n",
      "Epoch 40, Training loss 0.4583, Validation loss 0.3403\n",
      "Epoch 80, Training loss 0.4462, Validation loss 0.3456\n",
      "Epoch 120, Training loss 0.4385, Validation loss 0.3497\n",
      "Epoch 160, Training loss 0.4326, Validation loss 0.3536\n",
      "Epoch 200, Training loss 0.4278, Validation loss 0.3573\n"
     ]
    }
   ],
   "source": [
    "# Creating the training loop of the model with one hidden layer. \n",
    "optimizer = optim.SGD(seq_model_one.parameters(), lr=1e-1)\n",
    "\n",
    "print(\"Training Linear Regressions's model with one hidden layer:\")\n",
    "params_one = training_loop(\n",
    "    n_epochs = 200, \n",
    "    optimizer = optimizer, \n",
    "    model = seq_model_one, \n",
    "    loss_fn = loss_fn,\n",
    "    X_train = X_train, \n",
    "    X_val = X_val, \n",
    "    Y_train = Y_train, \n",
    "    Y_val = Y_val)\n",
    "\n",
    "params_one"
   ]
  },
  {
   "cell_type": "code",
   "execution_count": 245,
   "id": "b03fb67b",
   "metadata": {},
   "outputs": [
    {
     "data": {
      "text/plain": [
       "Sequential(\n",
       "  (hidden_linear_1): Linear(in_features=5, out_features=8, bias=True)\n",
       "  (hidden_activation_1): Tanh()\n",
       "  (hidden_linear_2): Linear(in_features=8, out_features=8, bias=True)\n",
       "  (hidden_activation_2): Tanh()\n",
       "  (hidden_linear_3): Linear(in_features=8, out_features=8, bias=True)\n",
       "  (hidden_activation_3): Tanh()\n",
       "  (output_linear): Linear(in_features=8, out_features=1, bias=True)\n",
       ")"
      ]
     },
     "execution_count": 245,
     "metadata": {},
     "output_type": "execute_result"
    }
   ],
   "source": [
    "# Creating a neural network model with 3 hidden layers. Problem 3b\n",
    "from collections import OrderedDict\n",
    "\n",
    "seq_model_three = nn.Sequential(OrderedDict([\n",
    "    ('hidden_linear_1', nn.Linear(5, 8)),\n",
    "    ('hidden_activation_1', nn.Tanh()),\n",
    "    ('hidden_linear_2', nn.Linear(8, 8)),\n",
    "    ('hidden_activation_2', nn.Tanh()),\n",
    "    ('hidden_linear_3', nn.Linear(8, 8)),\n",
    "    ('hidden_activation_3', nn.Tanh()),\n",
    "    ('output_linear', nn.Linear(8, 1))\n",
    "]))\n",
    "\n",
    "seq_model_three"
   ]
  },
  {
   "cell_type": "code",
   "execution_count": 246,
   "id": "716fba29",
   "metadata": {},
   "outputs": [
    {
     "name": "stdout",
     "output_type": "stream",
     "text": [
      "hidden_linear_1.weight torch.Size([8, 5])\n",
      "hidden_linear_1.bias torch.Size([8])\n",
      "hidden_linear_2.weight torch.Size([8, 8])\n",
      "hidden_linear_2.bias torch.Size([8])\n",
      "hidden_linear_3.weight torch.Size([8, 8])\n",
      "hidden_linear_3.bias torch.Size([8])\n",
      "output_linear.weight torch.Size([1, 8])\n",
      "output_linear.bias torch.Size([1])\n"
     ]
    }
   ],
   "source": [
    "for name, param in seq_model_three.named_parameters():\n",
    "    print(name, param.shape)"
   ]
  },
  {
   "cell_type": "code",
   "execution_count": 247,
   "id": "a9886695",
   "metadata": {},
   "outputs": [
    {
     "name": "stdout",
     "output_type": "stream",
     "text": [
      "Training Linear Regressions's model with three hidden layers:\n",
      "Epoch 1, Training loss 0.4277, Validation loss 0.3574\n",
      "Epoch 40, Training loss 0.4277, Validation loss 0.3574\n",
      "Epoch 80, Training loss 0.4277, Validation loss 0.3574\n",
      "Epoch 120, Training loss 0.4277, Validation loss 0.3574\n",
      "Epoch 160, Training loss 0.4277, Validation loss 0.3574\n",
      "Epoch 200, Training loss 0.4277, Validation loss 0.3574\n"
     ]
    }
   ],
   "source": [
    "# Creating the training loop of the model with three hidden layers. \n",
    "optimizer = optim.SGD(seq_model_one.parameters(), lr=1e-6)\n",
    "\n",
    "print(\"Training Linear Regressions's model with three hidden layers:\")\n",
    "params_three = training_loop(\n",
    "    n_epochs = 200, \n",
    "    optimizer = optimizer, \n",
    "    model = seq_model_one, \n",
    "    loss_fn = loss_fn,\n",
    "    X_train = X_train, \n",
    "    X_val = X_val, \n",
    "    Y_train = Y_train, \n",
    "    Y_val = Y_val)\n",
    "params_three"
   ]
  },
  {
   "cell_type": "code",
   "execution_count": null,
   "id": "6c65c9d0",
   "metadata": {},
   "outputs": [],
   "source": []
  }
 ],
 "metadata": {
  "kernelspec": {
   "display_name": "Python 3 (ipykernel)",
   "language": "python",
   "name": "python3"
  },
  "language_info": {
   "codemirror_mode": {
    "name": "ipython",
    "version": 3
   },
   "file_extension": ".py",
   "mimetype": "text/x-python",
   "name": "python",
   "nbconvert_exporter": "python",
   "pygments_lexer": "ipython3",
   "version": "3.9.12"
  }
 },
 "nbformat": 4,
 "nbformat_minor": 5
}
