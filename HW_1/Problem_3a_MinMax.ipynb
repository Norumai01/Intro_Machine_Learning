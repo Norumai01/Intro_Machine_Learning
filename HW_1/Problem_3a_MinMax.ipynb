{
 "cells": [
  {
   "cell_type": "code",
   "execution_count": 50,
   "id": "b7f1042f",
   "metadata": {},
   "outputs": [],
   "source": [
    "import numpy as np\n",
    "import pandas as pd\n",
    "import matplotlib.pyplot as plt\n",
    "import seaborn as sns"
   ]
  },
  {
   "cell_type": "code",
   "execution_count": 51,
   "id": "d3c30622",
   "metadata": {},
   "outputs": [
    {
     "data": {
      "text/html": [
       "<div>\n",
       "<style scoped>\n",
       "    .dataframe tbody tr th:only-of-type {\n",
       "        vertical-align: middle;\n",
       "    }\n",
       "\n",
       "    .dataframe tbody tr th {\n",
       "        vertical-align: top;\n",
       "    }\n",
       "\n",
       "    .dataframe thead th {\n",
       "        text-align: right;\n",
       "    }\n",
       "</style>\n",
       "<table border=\"1\" class=\"dataframe\">\n",
       "  <thead>\n",
       "    <tr style=\"text-align: right;\">\n",
       "      <th></th>\n",
       "      <th>price</th>\n",
       "      <th>area</th>\n",
       "      <th>bedrooms</th>\n",
       "      <th>bathrooms</th>\n",
       "      <th>stories</th>\n",
       "      <th>mainroad</th>\n",
       "      <th>guestroom</th>\n",
       "      <th>basement</th>\n",
       "      <th>hotwaterheating</th>\n",
       "      <th>airconditioning</th>\n",
       "      <th>parking</th>\n",
       "      <th>prefarea</th>\n",
       "      <th>furnishingstatus</th>\n",
       "    </tr>\n",
       "  </thead>\n",
       "  <tbody>\n",
       "    <tr>\n",
       "      <th>0</th>\n",
       "      <td>13300000</td>\n",
       "      <td>7420</td>\n",
       "      <td>4</td>\n",
       "      <td>2</td>\n",
       "      <td>3</td>\n",
       "      <td>yes</td>\n",
       "      <td>no</td>\n",
       "      <td>no</td>\n",
       "      <td>no</td>\n",
       "      <td>yes</td>\n",
       "      <td>2</td>\n",
       "      <td>yes</td>\n",
       "      <td>furnished</td>\n",
       "    </tr>\n",
       "    <tr>\n",
       "      <th>1</th>\n",
       "      <td>12250000</td>\n",
       "      <td>8960</td>\n",
       "      <td>4</td>\n",
       "      <td>4</td>\n",
       "      <td>4</td>\n",
       "      <td>yes</td>\n",
       "      <td>no</td>\n",
       "      <td>no</td>\n",
       "      <td>no</td>\n",
       "      <td>yes</td>\n",
       "      <td>3</td>\n",
       "      <td>no</td>\n",
       "      <td>furnished</td>\n",
       "    </tr>\n",
       "    <tr>\n",
       "      <th>2</th>\n",
       "      <td>12250000</td>\n",
       "      <td>9960</td>\n",
       "      <td>3</td>\n",
       "      <td>2</td>\n",
       "      <td>2</td>\n",
       "      <td>yes</td>\n",
       "      <td>no</td>\n",
       "      <td>yes</td>\n",
       "      <td>no</td>\n",
       "      <td>no</td>\n",
       "      <td>2</td>\n",
       "      <td>yes</td>\n",
       "      <td>semi-furnished</td>\n",
       "    </tr>\n",
       "    <tr>\n",
       "      <th>3</th>\n",
       "      <td>12215000</td>\n",
       "      <td>7500</td>\n",
       "      <td>4</td>\n",
       "      <td>2</td>\n",
       "      <td>2</td>\n",
       "      <td>yes</td>\n",
       "      <td>no</td>\n",
       "      <td>yes</td>\n",
       "      <td>no</td>\n",
       "      <td>yes</td>\n",
       "      <td>3</td>\n",
       "      <td>yes</td>\n",
       "      <td>furnished</td>\n",
       "    </tr>\n",
       "    <tr>\n",
       "      <th>4</th>\n",
       "      <td>11410000</td>\n",
       "      <td>7420</td>\n",
       "      <td>4</td>\n",
       "      <td>1</td>\n",
       "      <td>2</td>\n",
       "      <td>yes</td>\n",
       "      <td>yes</td>\n",
       "      <td>yes</td>\n",
       "      <td>no</td>\n",
       "      <td>yes</td>\n",
       "      <td>2</td>\n",
       "      <td>no</td>\n",
       "      <td>furnished</td>\n",
       "    </tr>\n",
       "  </tbody>\n",
       "</table>\n",
       "</div>"
      ],
      "text/plain": [
       "      price  area  bedrooms  bathrooms  stories mainroad guestroom basement  \\\n",
       "0  13300000  7420         4          2        3      yes        no       no   \n",
       "1  12250000  8960         4          4        4      yes        no       no   \n",
       "2  12250000  9960         3          2        2      yes        no      yes   \n",
       "3  12215000  7500         4          2        2      yes        no      yes   \n",
       "4  11410000  7420         4          1        2      yes       yes      yes   \n",
       "\n",
       "  hotwaterheating airconditioning  parking prefarea furnishingstatus  \n",
       "0              no             yes        2      yes        furnished  \n",
       "1              no             yes        3       no        furnished  \n",
       "2              no              no        2      yes   semi-furnished  \n",
       "3              no             yes        3      yes        furnished  \n",
       "4              no             yes        2       no        furnished  "
      ]
     },
     "execution_count": 51,
     "metadata": {},
     "output_type": "execute_result"
    }
   ],
   "source": [
    "housing = pd.DataFrame(pd.read_csv('./Housing.csv'))\n",
    "housing.head()"
   ]
  },
  {
   "cell_type": "code",
   "execution_count": 52,
   "id": "b77ddc39",
   "metadata": {},
   "outputs": [
    {
     "data": {
      "text/plain": [
       "(381, 13)"
      ]
     },
     "execution_count": 52,
     "metadata": {},
     "output_type": "execute_result"
    }
   ],
   "source": [
    "# Splitting the Data into Training and Testing Sets\n",
    "from sklearn.model_selection import train_test_split\n",
    "\n",
    "# Random seed to randomize the dataset.\n",
    "np.random.seed(0)\n",
    "df_train, df_test = train_test_split(housing, train_size = 0.7, test_size = 0.3)\n",
    "df_train.shape"
   ]
  },
  {
   "cell_type": "code",
   "execution_count": 53,
   "id": "e09f71a1",
   "metadata": {},
   "outputs": [
    {
     "data": {
      "text/plain": [
       "(164, 13)"
      ]
     },
     "execution_count": 53,
     "metadata": {},
     "output_type": "execute_result"
    }
   ],
   "source": [
    "df_test.shape"
   ]
  },
  {
   "cell_type": "code",
   "execution_count": 54,
   "id": "49f83ad4",
   "metadata": {},
   "outputs": [
    {
     "data": {
      "text/html": [
       "<div>\n",
       "<style scoped>\n",
       "    .dataframe tbody tr th:only-of-type {\n",
       "        vertical-align: middle;\n",
       "    }\n",
       "\n",
       "    .dataframe tbody tr th {\n",
       "        vertical-align: top;\n",
       "    }\n",
       "\n",
       "    .dataframe thead th {\n",
       "        text-align: right;\n",
       "    }\n",
       "</style>\n",
       "<table border=\"1\" class=\"dataframe\">\n",
       "  <thead>\n",
       "    <tr style=\"text-align: right;\">\n",
       "      <th></th>\n",
       "      <th>area</th>\n",
       "      <th>bedrooms</th>\n",
       "      <th>bathrooms</th>\n",
       "      <th>stories</th>\n",
       "      <th>parking</th>\n",
       "      <th>price</th>\n",
       "    </tr>\n",
       "  </thead>\n",
       "  <tbody>\n",
       "    <tr>\n",
       "      <th>454</th>\n",
       "      <td>4500</td>\n",
       "      <td>3</td>\n",
       "      <td>1</td>\n",
       "      <td>2</td>\n",
       "      <td>0</td>\n",
       "      <td>3143000</td>\n",
       "    </tr>\n",
       "    <tr>\n",
       "      <th>392</th>\n",
       "      <td>3990</td>\n",
       "      <td>3</td>\n",
       "      <td>1</td>\n",
       "      <td>2</td>\n",
       "      <td>0</td>\n",
       "      <td>3500000</td>\n",
       "    </tr>\n",
       "    <tr>\n",
       "      <th>231</th>\n",
       "      <td>4320</td>\n",
       "      <td>3</td>\n",
       "      <td>1</td>\n",
       "      <td>1</td>\n",
       "      <td>0</td>\n",
       "      <td>4690000</td>\n",
       "    </tr>\n",
       "    <tr>\n",
       "      <th>271</th>\n",
       "      <td>1905</td>\n",
       "      <td>5</td>\n",
       "      <td>1</td>\n",
       "      <td>2</td>\n",
       "      <td>0</td>\n",
       "      <td>4340000</td>\n",
       "    </tr>\n",
       "    <tr>\n",
       "      <th>250</th>\n",
       "      <td>3510</td>\n",
       "      <td>3</td>\n",
       "      <td>1</td>\n",
       "      <td>3</td>\n",
       "      <td>0</td>\n",
       "      <td>4515000</td>\n",
       "    </tr>\n",
       "  </tbody>\n",
       "</table>\n",
       "</div>"
      ],
      "text/plain": [
       "     area  bedrooms  bathrooms  stories  parking    price\n",
       "454  4500         3          1        2        0  3143000\n",
       "392  3990         3          1        2        0  3500000\n",
       "231  4320         3          1        1        0  4690000\n",
       "271  1905         5          1        2        0  4340000\n",
       "250  3510         3          1        3        0  4515000"
      ]
     },
     "execution_count": 54,
     "metadata": {},
     "output_type": "execute_result"
    }
   ],
   "source": [
    "num_vars = ['area', 'bedrooms', 'bathrooms', 'stories', 'parking', 'price']\n",
    "df_threeAtrain = df_train[num_vars]\n",
    "df_threeAtest = df_test[num_vars]\n",
    "df_threeAtrain.head()"
   ]
  },
  {
   "cell_type": "code",
   "execution_count": 55,
   "id": "33d2d122",
   "metadata": {},
   "outputs": [
    {
     "data": {
      "text/html": [
       "<div>\n",
       "<style scoped>\n",
       "    .dataframe tbody tr th:only-of-type {\n",
       "        vertical-align: middle;\n",
       "    }\n",
       "\n",
       "    .dataframe tbody tr th {\n",
       "        vertical-align: top;\n",
       "    }\n",
       "\n",
       "    .dataframe thead th {\n",
       "        text-align: right;\n",
       "    }\n",
       "</style>\n",
       "<table border=\"1\" class=\"dataframe\">\n",
       "  <thead>\n",
       "    <tr style=\"text-align: right;\">\n",
       "      <th></th>\n",
       "      <th>area</th>\n",
       "      <th>bedrooms</th>\n",
       "      <th>bathrooms</th>\n",
       "      <th>stories</th>\n",
       "      <th>parking</th>\n",
       "      <th>price</th>\n",
       "    </tr>\n",
       "  </thead>\n",
       "  <tbody>\n",
       "    <tr>\n",
       "      <th>454</th>\n",
       "      <td>0.193548</td>\n",
       "      <td>0.5</td>\n",
       "      <td>0.0</td>\n",
       "      <td>0.333333</td>\n",
       "      <td>0.0</td>\n",
       "      <td>0.120606</td>\n",
       "    </tr>\n",
       "    <tr>\n",
       "      <th>392</th>\n",
       "      <td>0.156495</td>\n",
       "      <td>0.5</td>\n",
       "      <td>0.0</td>\n",
       "      <td>0.333333</td>\n",
       "      <td>0.0</td>\n",
       "      <td>0.151515</td>\n",
       "    </tr>\n",
       "    <tr>\n",
       "      <th>231</th>\n",
       "      <td>0.180471</td>\n",
       "      <td>0.5</td>\n",
       "      <td>0.0</td>\n",
       "      <td>0.000000</td>\n",
       "      <td>0.0</td>\n",
       "      <td>0.254545</td>\n",
       "    </tr>\n",
       "    <tr>\n",
       "      <th>271</th>\n",
       "      <td>0.005013</td>\n",
       "      <td>1.0</td>\n",
       "      <td>0.0</td>\n",
       "      <td>0.333333</td>\n",
       "      <td>0.0</td>\n",
       "      <td>0.224242</td>\n",
       "    </tr>\n",
       "    <tr>\n",
       "      <th>250</th>\n",
       "      <td>0.121622</td>\n",
       "      <td>0.5</td>\n",
       "      <td>0.0</td>\n",
       "      <td>0.666667</td>\n",
       "      <td>0.0</td>\n",
       "      <td>0.239394</td>\n",
       "    </tr>\n",
       "  </tbody>\n",
       "</table>\n",
       "</div>"
      ],
      "text/plain": [
       "         area  bedrooms  bathrooms   stories  parking     price\n",
       "454  0.193548       0.5        0.0  0.333333      0.0  0.120606\n",
       "392  0.156495       0.5        0.0  0.333333      0.0  0.151515\n",
       "231  0.180471       0.5        0.0  0.000000      0.0  0.254545\n",
       "271  0.005013       1.0        0.0  0.333333      0.0  0.224242\n",
       "250  0.121622       0.5        0.0  0.666667      0.0  0.239394"
      ]
     },
     "execution_count": 55,
     "metadata": {},
     "output_type": "execute_result"
    }
   ],
   "source": [
    "# Many columns contains small integer values excluding areas. Needs to rescale the variables.\n",
    "# Advised to use starndarization or normalization, so the coefficients is comparable. \n",
    "\n",
    "# Two ways of rescaling:\n",
    "# 1.) Min-Max Scaling\n",
    "# 2.) Standardization (For this code.)\n",
    "\n",
    "import warnings\n",
    "warnings.filterwarnings('ignore')\n",
    "\n",
    "from sklearn.preprocessing import MinMaxScaler, StandardScaler\n",
    "scaler = MinMaxScaler()\n",
    "df_threeAtrain[num_vars] = scaler.fit_transform(df_threeAtrain[num_vars])\n",
    "df_threeAtrain.head()"
   ]
  },
  {
   "cell_type": "code",
   "execution_count": 56,
   "id": "243469fe",
   "metadata": {},
   "outputs": [
    {
     "name": "stdout",
     "output_type": "stream",
     "text": [
      "[[0.19354839 0.5        0.         0.33333333 0.         0.12060606]\n",
      " [0.1564952  0.5        0.         0.33333333 0.         0.15151515]\n",
      " [0.18047079 0.5        0.         0.         0.         0.25454545]\n",
      " [0.00501308 1.         0.         0.33333333 0.         0.22424242]\n",
      " [0.12162162 0.5        0.         0.66666667 0.         0.23939394]\n",
      " [0.04097646 0.5        0.         0.         0.         0.00148485]\n",
      " [0.2269689  0.25       0.         0.         0.         0.11515152]\n",
      " [0.34067132 0.5        0.5        1.         0.33333333 0.36363636]\n",
      " [0.13179308 0.5        0.5        0.33333333 0.66666667 0.32727273]\n",
      " [0.35701831 0.25       0.         0.         0.         0.12121212]\n",
      " [0.30252833 0.5        0.5        1.         0.33333333 0.47272727]\n",
      " [0.15431561 0.5        0.         0.         0.         0.09090909]\n",
      " [0.14269108 0.25       0.         0.         0.         0.11212121]\n",
      " [0.18265039 0.5        0.         0.33333333 0.33333333 0.09393939]\n",
      " [0.08456844 0.25       0.         0.         0.66666667 0.00606061]\n",
      " [0.25312409 0.25       0.         0.         0.33333333 0.14848485]\n",
      " [0.29163034 0.25       0.         0.         0.66666667 0.21212121]\n",
      " [0.41877361 0.75       0.         0.33333333 0.66666667 0.28484848]\n",
      " [0.30252833 0.5        0.         0.33333333 0.33333333 0.48484848]\n",
      " [0.61268527 0.5        0.         0.         0.33333333 0.3030303 ]]\n"
     ]
    }
   ],
   "source": [
    "dataset_train = df_threeAtrain.values[:,:]\n",
    "print(dataset_train[:20,:])"
   ]
  },
  {
   "cell_type": "code",
   "execution_count": 57,
   "id": "e3ed44d8",
   "metadata": {},
   "outputs": [
    {
     "data": {
      "text/plain": [
       "(381, 381)"
      ]
     },
     "execution_count": 57,
     "metadata": {},
     "output_type": "execute_result"
    }
   ],
   "source": [
    "X_train = df_threeAtrain.values[:,0:5]\n",
    "Y_train = df_threeAtrain.values[:,5]\n",
    "len(X_train), len(Y_train)"
   ]
  },
  {
   "cell_type": "code",
   "execution_count": 58,
   "id": "12fd838f",
   "metadata": {},
   "outputs": [
    {
     "name": "stdout",
     "output_type": "stream",
     "text": [
      "X = [[0.19354839 0.5        0.         0.33333333 0.        ]\n",
      " [0.1564952  0.5        0.         0.33333333 0.        ]\n",
      " [0.18047079 0.5        0.         0.         0.        ]\n",
      " [0.00501308 1.         0.         0.33333333 0.        ]\n",
      " [0.12162162 0.5        0.         0.66666667 0.        ]]\n",
      "Y = [0.12060606 0.15151515 0.25454545 0.22424242 0.23939394]\n"
     ]
    }
   ],
   "source": [
    "print('X =', X_train[:5])\n",
    "print('Y =', Y_train[:5])"
   ]
  },
  {
   "cell_type": "code",
   "execution_count": 59,
   "id": "440f7a34",
   "metadata": {},
   "outputs": [
    {
     "name": "stdout",
     "output_type": "stream",
     "text": [
      "X_1 = [[0.19354839 0.5        0.         0.33333333 0.        ]\n",
      " [0.1564952  0.5        0.         0.33333333 0.        ]\n",
      " [0.18047079 0.5        0.         0.         0.        ]\n",
      " [0.00501308 1.         0.         0.33333333 0.        ]\n",
      " [0.12162162 0.5        0.         0.66666667 0.        ]]\n"
     ]
    }
   ],
   "source": [
    "# Convert to 2D array (381x5)\n",
    "m = len(X_train)\n",
    "X_1 = X_train.reshape(m,5)\n",
    "print(\"X_1 =\", X_1[:5,:])"
   ]
  },
  {
   "cell_type": "code",
   "execution_count": 60,
   "id": "a646bc65",
   "metadata": {},
   "outputs": [
    {
     "data": {
      "text/plain": [
       "(array([[1.],\n",
       "        [1.],\n",
       "        [1.],\n",
       "        [1.],\n",
       "        [1.]]),\n",
       " 381)"
      ]
     },
     "execution_count": 60,
     "metadata": {},
     "output_type": "execute_result"
    }
   ],
   "source": [
    "m = len(X_train)\n",
    "X_0 = np.ones((m,1))\n",
    "X_0[:5], len(X_0)"
   ]
  },
  {
   "cell_type": "code",
   "execution_count": 61,
   "id": "293b1c84",
   "metadata": {},
   "outputs": [
    {
     "data": {
      "text/plain": [
       "array([[1.        , 0.19354839, 0.5       , 0.        , 0.33333333,\n",
       "        0.        ],\n",
       "       [1.        , 0.1564952 , 0.5       , 0.        , 0.33333333,\n",
       "        0.        ],\n",
       "       [1.        , 0.18047079, 0.5       , 0.        , 0.        ,\n",
       "        0.        ],\n",
       "       [1.        , 0.00501308, 1.        , 0.        , 0.33333333,\n",
       "        0.        ],\n",
       "       [1.        , 0.12162162, 0.5       , 0.        , 0.66666667,\n",
       "        0.        ]])"
      ]
     },
     "execution_count": 61,
     "metadata": {},
     "output_type": "execute_result"
    }
   ],
   "source": [
    "X_train = np.hstack((X_0, X_1))\n",
    "X_train[:5]"
   ]
  },
  {
   "cell_type": "code",
   "execution_count": 62,
   "id": "4eb071bf",
   "metadata": {},
   "outputs": [
    {
     "data": {
      "text/plain": [
       "array([[0.],\n",
       "       [0.],\n",
       "       [0.],\n",
       "       [0.],\n",
       "       [0.],\n",
       "       [0.]])"
      ]
     },
     "execution_count": 62,
     "metadata": {},
     "output_type": "execute_result"
    }
   ],
   "source": [
    "theta = np.zeros((6,1))\n",
    "theta"
   ]
  },
  {
   "cell_type": "code",
   "execution_count": 63,
   "id": "821eeb1e",
   "metadata": {},
   "outputs": [],
   "source": [
    "\"\"\"\n",
    "Compute loss for linear regression for one time.\n",
    "\n",
    "Input Parameters\n",
    "X : 2D array for training example\n",
    "    m = number of training examples\n",
    "    n = number of features\n",
    "Y : 1D array of label/target values. Dimension: m\n",
    "lambda_value: Regularization parameter. \n",
    "theta : 2D array of fitting parameters. Dimension: n,1\n",
    "\n",
    "Output Parameters\n",
    "J : Loss\n",
    "\"\"\"\n",
    "\n",
    "def compute_loss(X, Y, theta, lambda_value):\n",
    "    predictions = X.dot(theta) #prediction = h\n",
    "    errors = np.subtract(predictions, Y)\n",
    "    sqrErrors = np.square(errors)\n",
    "    regularization = lambda_value * np.sum(np.square(theta))\n",
    "    J = (1 / (2 * m)) * (np.sum(sqrErrors) + regularization)\n",
    "    return J"
   ]
  },
  {
   "cell_type": "code",
   "execution_count": 64,
   "id": "03a29d3b",
   "metadata": {},
   "outputs": [
    {
     "name": "stdout",
     "output_type": "stream",
     "text": [
      "Cost loss for all given theta = 18.008929309715338\n"
     ]
    }
   ],
   "source": [
    "lambda_value = 10\n",
    "cost = compute_loss(X_train, Y_train, theta, lambda_value)\n",
    "print(\"Cost loss for all given theta =\", cost)"
   ]
  },
  {
   "cell_type": "code",
   "execution_count": 65,
   "id": "c8f01e97",
   "metadata": {},
   "outputs": [],
   "source": [
    "\"\"\"\n",
    "Compute loss for l inear regression for all iterations\n",
    "\n",
    "Input Parameters\n",
    "X: 2D array, Dimension: m x n\n",
    "    m = number of training data point\n",
    "    n = number of features\n",
    "Y: 1D array of labels/target value for each training data point. Dimension: m\n",
    "theta: 2D array of fitting parameters or weights. Dimension: (n,1)\n",
    "alpha : learning rate\n",
    "iterations: Number of iterations.\n",
    "lambda_value: Regularization parameter. \n",
    "\n",
    "Output Parameters\n",
    "theta: Final Value. 2D array of fitting parameters or weights. Dimension: n,1\n",
    "loss_history: Contains value of cost at each iteration. 1D Array. Dimension: m\n",
    "\"\"\"\n",
    "\n",
    "def gradient_descent(X, Y, theta, alpha, iterations, lambda_value):\n",
    "    loss_history = np.zeros(iterations)\n",
    "    \n",
    "    for i in range(iterations):\n",
    "        predictions = X.dot(theta) # prediction (m,1) = temp\n",
    "        errors = np.subtract(predictions, Y)\n",
    "        sum_delta = (alpha / m) * X.transpose().dot(errors);\n",
    "        theta = theta - sum_delta; # theta (n,1)\n",
    "        loss_history[i] = compute_loss(X, Y, theta, lambda_value)\n",
    "    return theta, loss_history"
   ]
  },
  {
   "cell_type": "code",
   "execution_count": 66,
   "id": "9b699cad",
   "metadata": {},
   "outputs": [],
   "source": [
    "theta = [0., 0., 0., 0., 0., 0.]\n",
    "lambda_value = 10\n",
    "iterations = 1500\n",
    "alpha = 0.003"
   ]
  },
  {
   "cell_type": "code",
   "execution_count": 67,
   "id": "bf1f2eae",
   "metadata": {},
   "outputs": [
    {
     "name": "stdout",
     "output_type": "stream",
     "text": [
      "Final value of theta = [0.14839782 0.07602077 0.09709894 0.07707851 0.08789661 0.08002601]\n",
      "loss_history = [0.04693743 0.04661025 0.04628596 ... 0.00918339 0.0091828  0.00918222]\n"
     ]
    }
   ],
   "source": [
    "theta, loss_history = gradient_descent(X_train, Y_train, theta, alpha, iterations, lambda_value)\n",
    "print(\"Final value of theta =\", theta)\n",
    "print(\"loss_history =\", loss_history)"
   ]
  },
  {
   "cell_type": "code",
   "execution_count": 68,
   "id": "cb25223d",
   "metadata": {},
   "outputs": [
    {
     "data": {
      "text/html": [
       "<div>\n",
       "<style scoped>\n",
       "    .dataframe tbody tr th:only-of-type {\n",
       "        vertical-align: middle;\n",
       "    }\n",
       "\n",
       "    .dataframe tbody tr th {\n",
       "        vertical-align: top;\n",
       "    }\n",
       "\n",
       "    .dataframe thead th {\n",
       "        text-align: right;\n",
       "    }\n",
       "</style>\n",
       "<table border=\"1\" class=\"dataframe\">\n",
       "  <thead>\n",
       "    <tr style=\"text-align: right;\">\n",
       "      <th></th>\n",
       "      <th>area</th>\n",
       "      <th>bedrooms</th>\n",
       "      <th>bathrooms</th>\n",
       "      <th>stories</th>\n",
       "      <th>parking</th>\n",
       "      <th>price</th>\n",
       "    </tr>\n",
       "  </thead>\n",
       "  <tbody>\n",
       "    <tr>\n",
       "      <th>239</th>\n",
       "      <td>4000</td>\n",
       "      <td>3</td>\n",
       "      <td>1</td>\n",
       "      <td>2</td>\n",
       "      <td>1</td>\n",
       "      <td>4585000</td>\n",
       "    </tr>\n",
       "    <tr>\n",
       "      <th>113</th>\n",
       "      <td>9620</td>\n",
       "      <td>3</td>\n",
       "      <td>1</td>\n",
       "      <td>1</td>\n",
       "      <td>2</td>\n",
       "      <td>6083000</td>\n",
       "    </tr>\n",
       "    <tr>\n",
       "      <th>325</th>\n",
       "      <td>3460</td>\n",
       "      <td>4</td>\n",
       "      <td>1</td>\n",
       "      <td>2</td>\n",
       "      <td>0</td>\n",
       "      <td>4007500</td>\n",
       "    </tr>\n",
       "    <tr>\n",
       "      <th>66</th>\n",
       "      <td>13200</td>\n",
       "      <td>2</td>\n",
       "      <td>1</td>\n",
       "      <td>1</td>\n",
       "      <td>1</td>\n",
       "      <td>6930000</td>\n",
       "    </tr>\n",
       "    <tr>\n",
       "      <th>479</th>\n",
       "      <td>3660</td>\n",
       "      <td>4</td>\n",
       "      <td>1</td>\n",
       "      <td>2</td>\n",
       "      <td>0</td>\n",
       "      <td>2940000</td>\n",
       "    </tr>\n",
       "  </tbody>\n",
       "</table>\n",
       "</div>"
      ],
      "text/plain": [
       "      area  bedrooms  bathrooms  stories  parking    price\n",
       "239   4000         3          1        2        1  4585000\n",
       "113   9620         3          1        1        2  6083000\n",
       "325   3460         4          1        2        0  4007500\n",
       "66   13200         2          1        1        1  6930000\n",
       "479   3660         4          1        2        0  2940000"
      ]
     },
     "execution_count": 68,
     "metadata": {},
     "output_type": "execute_result"
    }
   ],
   "source": [
    "df_threeAtest.head()"
   ]
  },
  {
   "cell_type": "code",
   "execution_count": 69,
   "id": "418a3a64",
   "metadata": {},
   "outputs": [
    {
     "data": {
      "text/html": [
       "<div>\n",
       "<style scoped>\n",
       "    .dataframe tbody tr th:only-of-type {\n",
       "        vertical-align: middle;\n",
       "    }\n",
       "\n",
       "    .dataframe tbody tr th {\n",
       "        vertical-align: top;\n",
       "    }\n",
       "\n",
       "    .dataframe thead th {\n",
       "        text-align: right;\n",
       "    }\n",
       "</style>\n",
       "<table border=\"1\" class=\"dataframe\">\n",
       "  <thead>\n",
       "    <tr style=\"text-align: right;\">\n",
       "      <th></th>\n",
       "      <th>area</th>\n",
       "      <th>bedrooms</th>\n",
       "      <th>bathrooms</th>\n",
       "      <th>stories</th>\n",
       "      <th>parking</th>\n",
       "      <th>price</th>\n",
       "    </tr>\n",
       "  </thead>\n",
       "  <tbody>\n",
       "    <tr>\n",
       "      <th>239</th>\n",
       "      <td>0.161512</td>\n",
       "      <td>0.4</td>\n",
       "      <td>0.0</td>\n",
       "      <td>0.333333</td>\n",
       "      <td>0.333333</td>\n",
       "      <td>0.270000</td>\n",
       "    </tr>\n",
       "    <tr>\n",
       "      <th>113</th>\n",
       "      <td>0.547766</td>\n",
       "      <td>0.4</td>\n",
       "      <td>0.0</td>\n",
       "      <td>0.000000</td>\n",
       "      <td>0.666667</td>\n",
       "      <td>0.412667</td>\n",
       "    </tr>\n",
       "    <tr>\n",
       "      <th>325</th>\n",
       "      <td>0.124399</td>\n",
       "      <td>0.6</td>\n",
       "      <td>0.0</td>\n",
       "      <td>0.333333</td>\n",
       "      <td>0.000000</td>\n",
       "      <td>0.215000</td>\n",
       "    </tr>\n",
       "    <tr>\n",
       "      <th>66</th>\n",
       "      <td>0.793814</td>\n",
       "      <td>0.2</td>\n",
       "      <td>0.0</td>\n",
       "      <td>0.000000</td>\n",
       "      <td>0.333333</td>\n",
       "      <td>0.493333</td>\n",
       "    </tr>\n",
       "    <tr>\n",
       "      <th>479</th>\n",
       "      <td>0.138144</td>\n",
       "      <td>0.6</td>\n",
       "      <td>0.0</td>\n",
       "      <td>0.333333</td>\n",
       "      <td>0.000000</td>\n",
       "      <td>0.113333</td>\n",
       "    </tr>\n",
       "  </tbody>\n",
       "</table>\n",
       "</div>"
      ],
      "text/plain": [
       "         area  bedrooms  bathrooms   stories   parking     price\n",
       "239  0.161512       0.4        0.0  0.333333  0.333333  0.270000\n",
       "113  0.547766       0.4        0.0  0.000000  0.666667  0.412667\n",
       "325  0.124399       0.6        0.0  0.333333  0.000000  0.215000\n",
       "66   0.793814       0.2        0.0  0.000000  0.333333  0.493333\n",
       "479  0.138144       0.6        0.0  0.333333  0.000000  0.113333"
      ]
     },
     "execution_count": 69,
     "metadata": {},
     "output_type": "execute_result"
    }
   ],
   "source": [
    "# Many columns contains small integer values excluding areas. Needs to rescale the variables.\n",
    "# Advised to use starndarization or normalization, so the coefficients is comparable. \n",
    "\n",
    "# Two ways of rescaling:\n",
    "# 1.) Min-Max Scaling\n",
    "# 2.) Standardization (For this code.)\n",
    "\n",
    "import warnings\n",
    "warnings.filterwarnings('ignore')\n",
    "\n",
    "from sklearn.preprocessing import MinMaxScaler, StandardScaler\n",
    "scaler = MinMaxScaler()\n",
    "df_threeAtest[num_vars] = scaler.fit_transform(df_threeAtest[num_vars])\n",
    "df_threeAtest.head()"
   ]
  },
  {
   "cell_type": "code",
   "execution_count": 70,
   "id": "c61883c8",
   "metadata": {},
   "outputs": [
    {
     "name": "stdout",
     "output_type": "stream",
     "text": [
      "[[0.16151203 0.4        0.         0.33333333 0.33333333 0.27      ]\n",
      " [0.54776632 0.4        0.         0.         0.66666667 0.41266667]\n",
      " [0.12439863 0.6        0.         0.33333333 0.         0.215     ]\n",
      " [0.79381443 0.2        0.         0.         0.33333333 0.49333333]\n",
      " [0.13814433 0.6        0.         0.33333333 0.         0.11333333]\n",
      " [0.32302405 0.4        0.33333333 0.66666667 0.         0.42333333]\n",
      " [0.15120275 0.4        0.         0.         0.66666667 0.17      ]\n",
      " [0.1257732  0.4        0.         0.33333333 0.33333333 0.11333333]\n",
      " [0.12797251 0.2        0.         0.         0.33333333 0.16666667]\n",
      " [0.50515464 0.6        0.33333333 1.         0.66666667 0.59333333]\n",
      " [0.29896907 0.6        0.33333333 1.         0.         0.47666667]\n",
      " [0.15876289 0.4        0.         0.33333333 0.         0.21333333]\n",
      " [0.12371134 0.4        0.         0.33333333 0.         0.13333333]\n",
      " [0.30309278 0.4        0.         0.         0.         0.14666667]\n",
      " [0.29793814 0.4        0.         0.         0.         0.22666667]\n",
      " [0.05360825 0.4        0.         0.         0.         0.08666667]\n",
      " [0.2233677  0.2        0.         0.33333333 0.         0.25333333]\n",
      " [0.30034364 0.4        0.         0.         0.         0.18666667]\n",
      " [0.09965636 0.4        0.         0.33333333 0.         0.15333333]\n",
      " [0.19587629 0.2        0.         0.         0.66666667 0.24      ]]\n"
     ]
    }
   ],
   "source": [
    "dataset_test = df_threeAtest.values[:,:]\n",
    "print(dataset_test[:20,:])"
   ]
  },
  {
   "cell_type": "code",
   "execution_count": 71,
   "id": "0635b30c",
   "metadata": {},
   "outputs": [
    {
     "data": {
      "text/plain": [
       "(164, 164)"
      ]
     },
     "execution_count": 71,
     "metadata": {},
     "output_type": "execute_result"
    }
   ],
   "source": [
    "X_test = df_threeAtest.values[:,0:5]\n",
    "Y_test = df_threeAtest.values[:,5]\n",
    "len(X_test), len(Y_test)"
   ]
  },
  {
   "cell_type": "code",
   "execution_count": 72,
   "id": "705d3b42",
   "metadata": {},
   "outputs": [
    {
     "name": "stdout",
     "output_type": "stream",
     "text": [
      "X = [[0.16151203 0.4        0.         0.33333333 0.33333333]\n",
      " [0.54776632 0.4        0.         0.         0.66666667]\n",
      " [0.12439863 0.6        0.         0.33333333 0.        ]\n",
      " [0.79381443 0.2        0.         0.         0.33333333]\n",
      " [0.13814433 0.6        0.         0.33333333 0.        ]]\n",
      "Y = [0.27       0.41266667 0.215      0.49333333 0.11333333]\n"
     ]
    }
   ],
   "source": [
    "print('X =', X_test[:5])\n",
    "print('Y =', Y_test[:5])"
   ]
  },
  {
   "cell_type": "code",
   "execution_count": 73,
   "id": "970a3401",
   "metadata": {},
   "outputs": [
    {
     "name": "stdout",
     "output_type": "stream",
     "text": [
      "X_1 = [[0.16151203 0.4        0.         0.33333333 0.33333333]\n",
      " [0.54776632 0.4        0.         0.         0.66666667]\n",
      " [0.12439863 0.6        0.         0.33333333 0.        ]\n",
      " [0.79381443 0.2        0.         0.         0.33333333]\n",
      " [0.13814433 0.6        0.         0.33333333 0.        ]]\n"
     ]
    }
   ],
   "source": [
    "# Convert to 2D array (164x5)\n",
    "m = len(X_test)\n",
    "X_1 = X_test.reshape(m,5)\n",
    "print(\"X_1 =\", X_1[:5,:])"
   ]
  },
  {
   "cell_type": "code",
   "execution_count": 74,
   "id": "7476db88",
   "metadata": {},
   "outputs": [
    {
     "data": {
      "text/plain": [
       "(array([[1.],\n",
       "        [1.],\n",
       "        [1.],\n",
       "        [1.],\n",
       "        [1.]]),\n",
       " 164)"
      ]
     },
     "execution_count": 74,
     "metadata": {},
     "output_type": "execute_result"
    }
   ],
   "source": [
    "# Create theta zero.\n",
    "m = len(X_test)\n",
    "X_0 = np.ones((m,1))\n",
    "X_0[:5], len(X_0)"
   ]
  },
  {
   "cell_type": "code",
   "execution_count": 75,
   "id": "a100a2cf",
   "metadata": {},
   "outputs": [
    {
     "data": {
      "text/plain": [
       "array([[1.        , 0.16151203, 0.4       , 0.        , 0.33333333,\n",
       "        0.33333333],\n",
       "       [1.        , 0.54776632, 0.4       , 0.        , 0.        ,\n",
       "        0.66666667],\n",
       "       [1.        , 0.12439863, 0.6       , 0.        , 0.33333333,\n",
       "        0.        ],\n",
       "       [1.        , 0.79381443, 0.2       , 0.        , 0.        ,\n",
       "        0.33333333],\n",
       "       [1.        , 0.13814433, 0.6       , 0.        , 0.33333333,\n",
       "        0.        ]])"
      ]
     },
     "execution_count": 75,
     "metadata": {},
     "output_type": "execute_result"
    }
   ],
   "source": [
    "X_test = np.hstack((X_0, X_1))\n",
    "X_test[:5]"
   ]
  },
  {
   "cell_type": "code",
   "execution_count": 76,
   "id": "3462f074",
   "metadata": {},
   "outputs": [
    {
     "data": {
      "text/plain": [
       "array([[0.],\n",
       "       [0.],\n",
       "       [0.],\n",
       "       [0.],\n",
       "       [0.],\n",
       "       [0.]])"
      ]
     },
     "execution_count": 76,
     "metadata": {},
     "output_type": "execute_result"
    }
   ],
   "source": [
    "theta_test = np.zeros((6,1))\n",
    "theta_test"
   ]
  },
  {
   "cell_type": "code",
   "execution_count": 77,
   "id": "5477bfd5",
   "metadata": {},
   "outputs": [],
   "source": [
    "\"\"\"\n",
    "Compute loss for linear regression for one time.\n",
    "\n",
    "Input Parameters\n",
    "X : 2D array for training example\n",
    "    m = number of training examples\n",
    "    n = number of features\n",
    "Y : 1D array of label/target values. Dimension: m\n",
    "\n",
    "theta : 2D array of fitting parameters. Dimension: n,1\n",
    "\n",
    "Output Parameters\n",
    "J : Loss\n",
    "\"\"\"\n",
    "\n",
    "def compute_loss_noreg(X, Y, theta):\n",
    "    predictions = X.dot(theta) #prediction = h\n",
    "    errors = np.subtract(predictions, Y)\n",
    "    sqrErrors = np.square(errors)\n",
    "    J = 1 / (2 * m) * np.sum(sqrErrors)\n",
    "    return J"
   ]
  },
  {
   "cell_type": "code",
   "execution_count": 78,
   "id": "b27e49ea",
   "metadata": {},
   "outputs": [
    {
     "name": "stdout",
     "output_type": "stream",
     "text": [
      "Cost loss for all given theta = 9.334208222222223\n"
     ]
    }
   ],
   "source": [
    "cost_test = compute_loss_noreg(X_test, Y_test, theta_test)\n",
    "print(\"Cost loss for all given theta =\", cost_test)"
   ]
  },
  {
   "cell_type": "code",
   "execution_count": 79,
   "id": "5eb59c0f",
   "metadata": {},
   "outputs": [],
   "source": [
    "\"\"\"\n",
    "Compute loss for l inear regression for all iterations\n",
    "\n",
    "Input Parameters\n",
    "X: 2D array, Dimension: m x n\n",
    "    m = number of training data point\n",
    "    n = number of features\n",
    "Y: 1D array of labels/target value for each training data point. Dimension: m\n",
    "theta: 2D array of fitting parameters or weights. Dimension: (n,1)\n",
    "alpha : learning rate\n",
    "iterations: Number of iterations.\n",
    "\n",
    "Output Parameters\n",
    "theta: Final Value. 2D array of fitting parameters or weights. Dimension: n,1\n",
    "loss_history: Contains value of cost at each iteration. 1D Array. Dimension: m\n",
    "\"\"\"\n",
    "\n",
    "def gradient_descent_noreg(X, Y, theta, alpha, iterations):\n",
    "    loss_history = np.zeros(iterations)\n",
    "    \n",
    "    for i in range(iterations):\n",
    "        predictions = X.dot(theta) # prediction (m,1) = temp\n",
    "        errors = np.subtract(predictions, Y)\n",
    "        sum_delta = (alpha / m) * X.transpose().dot(errors);\n",
    "        theta = theta - sum_delta; # theta (n,1)\n",
    "        loss_history[i] = compute_loss_noreg(X, Y, theta)\n",
    "    return theta, loss_history"
   ]
  },
  {
   "cell_type": "code",
   "execution_count": 80,
   "id": "c5f4f7a4",
   "metadata": {},
   "outputs": [],
   "source": [
    "theta_test = [0., 0., 0., 0., 0., 0.]\n",
    "iterations = 1500\n",
    "alpha = 0.003"
   ]
  },
  {
   "cell_type": "code",
   "execution_count": 81,
   "id": "d8ef82f8",
   "metadata": {},
   "outputs": [
    {
     "name": "stdout",
     "output_type": "stream",
     "text": [
      "Final value of theta = [0.17393007 0.10686368 0.09265002 0.0782613  0.1064635  0.09878324]\n",
      "loss_history = [0.05654174 0.05617062 0.05580252 ... 0.00897964 0.00897843 0.00897723]\n"
     ]
    }
   ],
   "source": [
    "theta_test, loss_history_test = gradient_descent_noreg(X_test, Y_test, theta_test, alpha, iterations)\n",
    "print(\"Final value of theta =\", theta_test)\n",
    "print(\"loss_history =\", loss_history_test)"
   ]
  },
  {
   "cell_type": "code",
   "execution_count": 83,
   "id": "0ca2f1ee",
   "metadata": {},
   "outputs": [
    {
     "data": {
      "text/plain": [
       "Text(0.5, 1.0, 'Convergence of gradient descent')"
      ]
     },
     "execution_count": 83,
     "metadata": {},
     "output_type": "execute_result"
    },
    {
     "data": {
      "image/png": "[encoded data removed]",
      "text/plain": [
       "<Figure size 864x576 with 1 Axes>"
      ]
     },
     "metadata": {
      "needs_background": "light"
     },
     "output_type": "display_data"
    }
   ],
   "source": [
    "plt.plot(range(1, iterations + 1), loss_history, color = 'black')\n",
    "plt.plot(range(1, iterations + 1), loss_history_test, color = 'blue')\n",
    "plt.rcParams[\"figure.figsize\"] = [12,8]\n",
    "plt.grid()\n",
    "plt.legend(['Training Sets', 'Validation Sets'])\n",
    "plt.xlabel(\"Numbers of iterations\")\n",
    "plt.ylabel(\"Loss (J)\")\n",
    "plt.title(\"Convergence of gradient descent\")"
   ]
  },
  {
   "cell_type": "code",
   "execution_count": null,
   "id": "12342df7",
   "metadata": {},
   "outputs": [],
   "source": []
  }
 ],
 "metadata": {
  "kernelspec": {
   "display_name": "Python 3 (ipykernel)",
   "language": "python",
   "name": "python3"
  },
  "language_info": {
   "codemirror_mode": {
    "name": "ipython",
    "version": 3
   },
   "file_extension": ".py",
   "mimetype": "text/x-python",
   "name": "python",
   "nbconvert_exporter": "python",
   "pygments_lexer": "ipython3",
   "version": "3.9.12"
  }
 },
 "nbformat": 4,
 "nbformat_minor": 5
}
