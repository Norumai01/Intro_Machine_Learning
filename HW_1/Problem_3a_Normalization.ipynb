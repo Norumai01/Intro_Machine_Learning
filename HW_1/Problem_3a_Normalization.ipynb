{
 "cells": [
  {
   "cell_type": "code",
   "execution_count": 309,
   "id": "b7f1042f",
   "metadata": {},
   "outputs": [],
   "source": [
    "import numpy as np\n",
    "import pandas as pd\n",
    "import matplotlib.pyplot as plt\n",
    "import seaborn as sns"
   ]
  },
  {
   "cell_type": "code",
   "execution_count": 310,
   "id": "d3c30622",
   "metadata": {},
   "outputs": [
    {
     "data": {
      "text/html": [
       "<div>\n",
       "<style scoped>\n",
       "    .dataframe tbody tr th:only-of-type {\n",
       "        vertical-align: middle;\n",
       "    }\n",
       "\n",
       "    .dataframe tbody tr th {\n",
       "        vertical-align: top;\n",
       "    }\n",
       "\n",
       "    .dataframe thead th {\n",
       "        text-align: right;\n",
       "    }\n",
       "</style>\n",
       "<table border=\"1\" class=\"dataframe\">\n",
       "  <thead>\n",
       "    <tr style=\"text-align: right;\">\n",
       "      <th></th>\n",
       "      <th>price</th>\n",
       "      <th>area</th>\n",
       "      <th>bedrooms</th>\n",
       "      <th>bathrooms</th>\n",
       "      <th>stories</th>\n",
       "      <th>mainroad</th>\n",
       "      <th>guestroom</th>\n",
       "      <th>basement</th>\n",
       "      <th>hotwaterheating</th>\n",
       "      <th>airconditioning</th>\n",
       "      <th>parking</th>\n",
       "      <th>prefarea</th>\n",
       "      <th>furnishingstatus</th>\n",
       "    </tr>\n",
       "  </thead>\n",
       "  <tbody>\n",
       "    <tr>\n",
       "      <th>0</th>\n",
       "      <td>13300000</td>\n",
       "      <td>7420</td>\n",
       "      <td>4</td>\n",
       "      <td>2</td>\n",
       "      <td>3</td>\n",
       "      <td>yes</td>\n",
       "      <td>no</td>\n",
       "      <td>no</td>\n",
       "      <td>no</td>\n",
       "      <td>yes</td>\n",
       "      <td>2</td>\n",
       "      <td>yes</td>\n",
       "      <td>furnished</td>\n",
       "    </tr>\n",
       "    <tr>\n",
       "      <th>1</th>\n",
       "      <td>12250000</td>\n",
       "      <td>8960</td>\n",
       "      <td>4</td>\n",
       "      <td>4</td>\n",
       "      <td>4</td>\n",
       "      <td>yes</td>\n",
       "      <td>no</td>\n",
       "      <td>no</td>\n",
       "      <td>no</td>\n",
       "      <td>yes</td>\n",
       "      <td>3</td>\n",
       "      <td>no</td>\n",
       "      <td>furnished</td>\n",
       "    </tr>\n",
       "    <tr>\n",
       "      <th>2</th>\n",
       "      <td>12250000</td>\n",
       "      <td>9960</td>\n",
       "      <td>3</td>\n",
       "      <td>2</td>\n",
       "      <td>2</td>\n",
       "      <td>yes</td>\n",
       "      <td>no</td>\n",
       "      <td>yes</td>\n",
       "      <td>no</td>\n",
       "      <td>no</td>\n",
       "      <td>2</td>\n",
       "      <td>yes</td>\n",
       "      <td>semi-furnished</td>\n",
       "    </tr>\n",
       "    <tr>\n",
       "      <th>3</th>\n",
       "      <td>12215000</td>\n",
       "      <td>7500</td>\n",
       "      <td>4</td>\n",
       "      <td>2</td>\n",
       "      <td>2</td>\n",
       "      <td>yes</td>\n",
       "      <td>no</td>\n",
       "      <td>yes</td>\n",
       "      <td>no</td>\n",
       "      <td>yes</td>\n",
       "      <td>3</td>\n",
       "      <td>yes</td>\n",
       "      <td>furnished</td>\n",
       "    </tr>\n",
       "    <tr>\n",
       "      <th>4</th>\n",
       "      <td>11410000</td>\n",
       "      <td>7420</td>\n",
       "      <td>4</td>\n",
       "      <td>1</td>\n",
       "      <td>2</td>\n",
       "      <td>yes</td>\n",
       "      <td>yes</td>\n",
       "      <td>yes</td>\n",
       "      <td>no</td>\n",
       "      <td>yes</td>\n",
       "      <td>2</td>\n",
       "      <td>no</td>\n",
       "      <td>furnished</td>\n",
       "    </tr>\n",
       "  </tbody>\n",
       "</table>\n",
       "</div>"
      ],
      "text/plain": [
       "      price  area  bedrooms  bathrooms  stories mainroad guestroom basement  \\\n",
       "0  13300000  7420         4          2        3      yes        no       no   \n",
       "1  12250000  8960         4          4        4      yes        no       no   \n",
       "2  12250000  9960         3          2        2      yes        no      yes   \n",
       "3  12215000  7500         4          2        2      yes        no      yes   \n",
       "4  11410000  7420         4          1        2      yes       yes      yes   \n",
       "\n",
       "  hotwaterheating airconditioning  parking prefarea furnishingstatus  \n",
       "0              no             yes        2      yes        furnished  \n",
       "1              no             yes        3       no        furnished  \n",
       "2              no              no        2      yes   semi-furnished  \n",
       "3              no             yes        3      yes        furnished  \n",
       "4              no             yes        2       no        furnished  "
      ]
     },
     "execution_count": 310,
     "metadata": {},
     "output_type": "execute_result"
    }
   ],
   "source": [
    "housing = pd.DataFrame(pd.read_csv('./Housing.csv'))\n",
    "housing.head()"
   ]
  },
  {
   "cell_type": "code",
   "execution_count": 311,
   "id": "b77ddc39",
   "metadata": {},
   "outputs": [
    {
     "data": {
      "text/plain": [
       "(381, 13)"
      ]
     },
     "execution_count": 311,
     "metadata": {},
     "output_type": "execute_result"
    }
   ],
   "source": [
    "# Splitting the Data into Training and Testing Sets\n",
    "from sklearn.model_selection import train_test_split\n",
    "\n",
    "# Random seed to randomize the dataset.\n",
    "np.random.seed(0)\n",
    "df_train, df_test = train_test_split(housing, train_size = 0.7, test_size = 0.3)\n",
    "df_train.shape"
   ]
  },
  {
   "cell_type": "code",
   "execution_count": 312,
   "id": "e09f71a1",
   "metadata": {},
   "outputs": [
    {
     "data": {
      "text/plain": [
       "(164, 13)"
      ]
     },
     "execution_count": 312,
     "metadata": {},
     "output_type": "execute_result"
    }
   ],
   "source": [
    "df_test.shape"
   ]
  },
  {
   "cell_type": "code",
   "execution_count": 313,
   "id": "49f83ad4",
   "metadata": {},
   "outputs": [
    {
     "data": {
      "text/html": [
       "<div>\n",
       "<style scoped>\n",
       "    .dataframe tbody tr th:only-of-type {\n",
       "        vertical-align: middle;\n",
       "    }\n",
       "\n",
       "    .dataframe tbody tr th {\n",
       "        vertical-align: top;\n",
       "    }\n",
       "\n",
       "    .dataframe thead th {\n",
       "        text-align: right;\n",
       "    }\n",
       "</style>\n",
       "<table border=\"1\" class=\"dataframe\">\n",
       "  <thead>\n",
       "    <tr style=\"text-align: right;\">\n",
       "      <th></th>\n",
       "      <th>area</th>\n",
       "      <th>bedrooms</th>\n",
       "      <th>bathrooms</th>\n",
       "      <th>stories</th>\n",
       "      <th>parking</th>\n",
       "      <th>price</th>\n",
       "    </tr>\n",
       "  </thead>\n",
       "  <tbody>\n",
       "    <tr>\n",
       "      <th>454</th>\n",
       "      <td>4500</td>\n",
       "      <td>3</td>\n",
       "      <td>1</td>\n",
       "      <td>2</td>\n",
       "      <td>0</td>\n",
       "      <td>3143000</td>\n",
       "    </tr>\n",
       "    <tr>\n",
       "      <th>392</th>\n",
       "      <td>3990</td>\n",
       "      <td>3</td>\n",
       "      <td>1</td>\n",
       "      <td>2</td>\n",
       "      <td>0</td>\n",
       "      <td>3500000</td>\n",
       "    </tr>\n",
       "    <tr>\n",
       "      <th>231</th>\n",
       "      <td>4320</td>\n",
       "      <td>3</td>\n",
       "      <td>1</td>\n",
       "      <td>1</td>\n",
       "      <td>0</td>\n",
       "      <td>4690000</td>\n",
       "    </tr>\n",
       "    <tr>\n",
       "      <th>271</th>\n",
       "      <td>1905</td>\n",
       "      <td>5</td>\n",
       "      <td>1</td>\n",
       "      <td>2</td>\n",
       "      <td>0</td>\n",
       "      <td>4340000</td>\n",
       "    </tr>\n",
       "    <tr>\n",
       "      <th>250</th>\n",
       "      <td>3510</td>\n",
       "      <td>3</td>\n",
       "      <td>1</td>\n",
       "      <td>3</td>\n",
       "      <td>0</td>\n",
       "      <td>4515000</td>\n",
       "    </tr>\n",
       "  </tbody>\n",
       "</table>\n",
       "</div>"
      ],
      "text/plain": [
       "     area  bedrooms  bathrooms  stories  parking    price\n",
       "454  4500         3          1        2        0  3143000\n",
       "392  3990         3          1        2        0  3500000\n",
       "231  4320         3          1        1        0  4690000\n",
       "271  1905         5          1        2        0  4340000\n",
       "250  3510         3          1        3        0  4515000"
      ]
     },
     "execution_count": 313,
     "metadata": {},
     "output_type": "execute_result"
    }
   ],
   "source": [
    "num_vars = ['area', 'bedrooms', 'bathrooms', 'stories', 'parking', 'price']\n",
    "df_threeAtrain = df_train[num_vars]\n",
    "df_threeAtest = df_test[num_vars]\n",
    "df_threeAtrain.head()"
   ]
  },
  {
   "cell_type": "code",
   "execution_count": 314,
   "id": "223a4139",
   "metadata": {},
   "outputs": [
    {
     "data": {
      "text/html": [
       "<div>\n",
       "<style scoped>\n",
       "    .dataframe tbody tr th:only-of-type {\n",
       "        vertical-align: middle;\n",
       "    }\n",
       "\n",
       "    .dataframe tbody tr th {\n",
       "        vertical-align: top;\n",
       "    }\n",
       "\n",
       "    .dataframe thead th {\n",
       "        text-align: right;\n",
       "    }\n",
       "</style>\n",
       "<table border=\"1\" class=\"dataframe\">\n",
       "  <thead>\n",
       "    <tr style=\"text-align: right;\">\n",
       "      <th></th>\n",
       "      <th>area</th>\n",
       "      <th>bedrooms</th>\n",
       "      <th>bathrooms</th>\n",
       "      <th>stories</th>\n",
       "      <th>parking</th>\n",
       "      <th>price</th>\n",
       "    </tr>\n",
       "  </thead>\n",
       "  <tbody>\n",
       "    <tr>\n",
       "      <th>454</th>\n",
       "      <td>-0.286366</td>\n",
       "      <td>0.073764</td>\n",
       "      <td>-0.58123</td>\n",
       "      <td>0.207401</td>\n",
       "      <td>-0.82296</td>\n",
       "      <td>-0.868394</td>\n",
       "    </tr>\n",
       "    <tr>\n",
       "      <th>392</th>\n",
       "      <td>-0.544762</td>\n",
       "      <td>0.073764</td>\n",
       "      <td>-0.58123</td>\n",
       "      <td>0.207401</td>\n",
       "      <td>-0.82296</td>\n",
       "      <td>-0.677628</td>\n",
       "    </tr>\n",
       "    <tr>\n",
       "      <th>231</th>\n",
       "      <td>-0.377564</td>\n",
       "      <td>0.073764</td>\n",
       "      <td>-0.58123</td>\n",
       "      <td>-0.937813</td>\n",
       "      <td>-0.82296</td>\n",
       "      <td>-0.041744</td>\n",
       "    </tr>\n",
       "    <tr>\n",
       "      <th>271</th>\n",
       "      <td>-1.601145</td>\n",
       "      <td>2.884176</td>\n",
       "      <td>-0.58123</td>\n",
       "      <td>0.207401</td>\n",
       "      <td>-0.82296</td>\n",
       "      <td>-0.228768</td>\n",
       "    </tr>\n",
       "    <tr>\n",
       "      <th>250</th>\n",
       "      <td>-0.787958</td>\n",
       "      <td>0.073764</td>\n",
       "      <td>-0.58123</td>\n",
       "      <td>1.352614</td>\n",
       "      <td>-0.82296</td>\n",
       "      <td>-0.135256</td>\n",
       "    </tr>\n",
       "  </tbody>\n",
       "</table>\n",
       "</div>"
      ],
      "text/plain": [
       "         area  bedrooms  bathrooms   stories  parking     price\n",
       "454 -0.286366  0.073764   -0.58123  0.207401 -0.82296 -0.868394\n",
       "392 -0.544762  0.073764   -0.58123  0.207401 -0.82296 -0.677628\n",
       "231 -0.377564  0.073764   -0.58123 -0.937813 -0.82296 -0.041744\n",
       "271 -1.601145  2.884176   -0.58123  0.207401 -0.82296 -0.228768\n",
       "250 -0.787958  0.073764   -0.58123  1.352614 -0.82296 -0.135256"
      ]
     },
     "execution_count": 314,
     "metadata": {},
     "output_type": "execute_result"
    }
   ],
   "source": [
    "# Many columns contains small integer values excluding areas. Needs to rescale the variables.\n",
    "# Advised to use starndarization or normalization, so the coefficients is comparable. \n",
    "\n",
    "# Two ways of rescaling:\n",
    "# 1.) Min-Max Scaling\n",
    "# 2.) Standardization (For this code.)\n",
    "\n",
    "import warnings\n",
    "warnings.filterwarnings('ignore')\n",
    "\n",
    "from sklearn.preprocessing import MinMaxScaler, StandardScaler\n",
    "scaler = StandardScaler()\n",
    "df_threeAtrain[num_vars] = scaler.fit_transform(df_twoAtrain[num_vars])\n",
    "df_threeAtrain.head()"
   ]
  },
  {
   "cell_type": "code",
   "execution_count": 315,
   "id": "243469fe",
   "metadata": {},
   "outputs": [
    {
     "name": "stdout",
     "output_type": "stream",
     "text": [
      "[[-0.28636589  0.07376409 -0.58122996  0.20740088 -0.82296013 -0.86839366]\n",
      " [-0.54476182  0.07376409 -0.58122996  0.20740088 -0.82296013 -0.67762826]\n",
      " [-0.37756445  0.07376409 -0.58122996 -0.93781267 -0.82296013 -0.04174357]\n",
      " [-1.60114518  2.88417578 -0.58122996  0.20740088 -0.82296013 -0.22876848]\n",
      " [-0.78795799  0.07376409 -0.58122996  1.35261443 -0.82296013 -0.13525602]\n",
      " [-1.35034913  0.07376409 -0.58122996 -0.93781267 -0.82296013 -1.60358858]\n",
      " [-0.05330289 -1.33144176 -0.58122996 -0.93781267 -0.82296013 -0.90205815]\n",
      " [ 0.73961796  0.07376409  1.48838327  2.49782797  0.32137494  0.6315461 ]\n",
      " [-0.71702577  0.07376409  1.48838327  0.20740088  1.46571002  0.40711621]\n",
      " [ 0.85361617 -1.33144176 -0.58122996 -0.93781267 -0.82296013 -0.86465316]\n",
      " [ 0.47362215  0.07376409  1.48838327  2.49782797  0.32137494  1.30483577]\n",
      " [-0.55996158  0.07376409 -0.58122996 -0.93781267 -0.82296013 -1.05167807]\n",
      " [-0.64102697 -1.33144176 -0.58122996 -0.93781267 -0.82296013 -0.92076064]\n",
      " [-0.36236469  0.07376409 -0.58122996  0.20740088  0.32137494 -1.03297558]\n",
      " [-1.04635392 -1.33144176 -0.58122996 -0.93781267  1.46571002 -1.57534782]\n",
      " [ 0.12909424 -1.33144176 -0.58122996 -0.93781267  0.32137494 -0.69633075]\n",
      " [ 0.39762335 -1.33144176 -0.58122996 -0.93781267  1.46571002 -0.30357844]\n",
      " [ 1.28427605  1.47896994 -0.58122996  0.20740088  1.46571002  0.14528134]\n",
      " [ 0.47362215  0.07376409 -0.58122996  0.20740088  0.32137494  1.37964574]\n",
      " [ 2.6365481   0.07376409 -0.58122996 -0.93781267  0.32137494  0.25749629]]\n"
     ]
    }
   ],
   "source": [
    "dataset_train = df_threeAtrain.values[:,:]\n",
    "print(dataset_train[:20,:])"
   ]
  },
  {
   "cell_type": "code",
   "execution_count": 316,
   "id": "e3ed44d8",
   "metadata": {},
   "outputs": [
    {
     "data": {
      "text/plain": [
       "(381, 381)"
      ]
     },
     "execution_count": 316,
     "metadata": {},
     "output_type": "execute_result"
    }
   ],
   "source": [
    "X_train = df_threeAtrain.values[:,0:5]\n",
    "Y_train = df_threeAtrain.values[:,5]\n",
    "len(X_train), len(Y_train)"
   ]
  },
  {
   "cell_type": "code",
   "execution_count": 317,
   "id": "12fd838f",
   "metadata": {},
   "outputs": [
    {
     "name": "stdout",
     "output_type": "stream",
     "text": [
      "X = [[-0.28636589  0.07376409 -0.58122996  0.20740088 -0.82296013]\n",
      " [-0.54476182  0.07376409 -0.58122996  0.20740088 -0.82296013]\n",
      " [-0.37756445  0.07376409 -0.58122996 -0.93781267 -0.82296013]\n",
      " [-1.60114518  2.88417578 -0.58122996  0.20740088 -0.82296013]\n",
      " [-0.78795799  0.07376409 -0.58122996  1.35261443 -0.82296013]]\n",
      "Y = [-0.86839366 -0.67762826 -0.04174357 -0.22876848 -0.13525602]\n"
     ]
    }
   ],
   "source": [
    "print('X =', X_train[:5])\n",
    "print('Y =', Y_train[:5])"
   ]
  },
  {
   "cell_type": "code",
   "execution_count": 318,
   "id": "440f7a34",
   "metadata": {},
   "outputs": [
    {
     "name": "stdout",
     "output_type": "stream",
     "text": [
      "X_1 = [[-0.28636589  0.07376409 -0.58122996  0.20740088 -0.82296013]\n",
      " [-0.54476182  0.07376409 -0.58122996  0.20740088 -0.82296013]\n",
      " [-0.37756445  0.07376409 -0.58122996 -0.93781267 -0.82296013]\n",
      " [-1.60114518  2.88417578 -0.58122996  0.20740088 -0.82296013]\n",
      " [-0.78795799  0.07376409 -0.58122996  1.35261443 -0.82296013]]\n"
     ]
    }
   ],
   "source": [
    "# Convert to 2D array (381x5)\n",
    "m = len(X_train)\n",
    "X_1 = X_train.reshape(m,5)\n",
    "print(\"X_1 =\", X_1[:5,:])"
   ]
  },
  {
   "cell_type": "code",
   "execution_count": 319,
   "id": "a646bc65",
   "metadata": {},
   "outputs": [
    {
     "data": {
      "text/plain": [
       "(array([[1.],\n",
       "        [1.],\n",
       "        [1.],\n",
       "        [1.],\n",
       "        [1.]]),\n",
       " 381)"
      ]
     },
     "execution_count": 319,
     "metadata": {},
     "output_type": "execute_result"
    }
   ],
   "source": [
    "m = len(X_train)\n",
    "X_0 = np.ones((m,1))\n",
    "X_0[:5], len(X_0)"
   ]
  },
  {
   "cell_type": "code",
   "execution_count": 320,
   "id": "293b1c84",
   "metadata": {},
   "outputs": [
    {
     "data": {
      "text/plain": [
       "array([[ 1.        , -0.28636589,  0.07376409, -0.58122996,  0.20740088,\n",
       "        -0.82296013],\n",
       "       [ 1.        , -0.54476182,  0.07376409, -0.58122996,  0.20740088,\n",
       "        -0.82296013],\n",
       "       [ 1.        , -0.37756445,  0.07376409, -0.58122996, -0.93781267,\n",
       "        -0.82296013],\n",
       "       [ 1.        , -1.60114518,  2.88417578, -0.58122996,  0.20740088,\n",
       "        -0.82296013],\n",
       "       [ 1.        , -0.78795799,  0.07376409, -0.58122996,  1.35261443,\n",
       "        -0.82296013]])"
      ]
     },
     "execution_count": 320,
     "metadata": {},
     "output_type": "execute_result"
    }
   ],
   "source": [
    "X_train = np.hstack((X_0, X_1))\n",
    "X_train[:5]"
   ]
  },
  {
   "cell_type": "code",
   "execution_count": 321,
   "id": "4eb071bf",
   "metadata": {},
   "outputs": [
    {
     "data": {
      "text/plain": [
       "array([[0.],\n",
       "       [0.],\n",
       "       [0.],\n",
       "       [0.],\n",
       "       [0.],\n",
       "       [0.]])"
      ]
     },
     "execution_count": 321,
     "metadata": {},
     "output_type": "execute_result"
    }
   ],
   "source": [
    "theta = np.zeros((6,1))\n",
    "#lambda_value = 10\n",
    "theta"
   ]
  },
  {
   "cell_type": "code",
   "execution_count": 322,
   "id": "821eeb1e",
   "metadata": {},
   "outputs": [],
   "source": [
    "\"\"\"\n",
    "Compute loss for linear regression for one time.\n",
    "\n",
    "Input Parameters\n",
    "X : 2D array for training example\n",
    "    m = number of training examples\n",
    "    n = number of features\n",
    "Y : 1D array of label/target values. Dimension: m\n",
    "lambda_value: Regularization parameter. \n",
    "theta : 2D array of fitting parameters. Dimension: n,1\n",
    "\n",
    "Output Parameters\n",
    "J : Loss\n",
    "\"\"\"\n",
    "\n",
    "def compute_loss(X, Y, theta, lambda_value):\n",
    "    predictions = X.dot(theta) #prediction = h\n",
    "    errors = np.subtract(predictions, Y)\n",
    "    sqrErrors = np.square(errors)\n",
    "    regularization = lambda_value * np.sum(np.square(theta))\n",
    "    J = (1 / (2 * m)) * (np.sum(sqrErrors) + regularization)\n",
    "    return J"
   ]
  },
  {
   "cell_type": "code",
   "execution_count": 323,
   "id": "03a29d3b",
   "metadata": {},
   "outputs": [
    {
     "name": "stdout",
     "output_type": "stream",
     "text": [
      "Cost loss for all given theta = 190.49999999999997\n"
     ]
    }
   ],
   "source": [
    "lambda_value = 10\n",
    "cost = compute_loss(X_train, Y_train, theta, lambda_value)\n",
    "print(\"Cost loss for all given theta =\", cost)"
   ]
  },
  {
   "cell_type": "code",
   "execution_count": 324,
   "id": "c8f01e97",
   "metadata": {},
   "outputs": [],
   "source": [
    "\"\"\"\n",
    "Compute loss for l inear regression for all iterations\n",
    "\n",
    "Input Parameters\n",
    "X: 2D array, Dimension: m x n\n",
    "    m = number of training data point\n",
    "    n = number of features\n",
    "Y: 1D array of labels/target value for each training data point. Dimension: m\n",
    "theta: 2D array of fitting parameters or weights. Dimension: (n,1)\n",
    "alpha : learning rate\n",
    "iterations: Number of iterations.\n",
    "lambda_value: Regularization parameter. \n",
    "\n",
    "Output Parameters\n",
    "theta: Final Value. 2D array of fitting parameters or weights. Dimension: n,1\n",
    "loss_history: Contains value of cost at each iteration. 1D Array. Dimension: m\n",
    "\"\"\"\n",
    "\n",
    "def gradient_descent(X, Y, theta, alpha, iterations, lambda_value):\n",
    "    loss_history = np.zeros(iterations)\n",
    "    \n",
    "    for i in range(iterations):\n",
    "        predictions = X.dot(theta) # prediction (m,1) = temp\n",
    "        errors = np.subtract(predictions, Y)\n",
    "        #regularization = ((alpha * lambda_value) / m) * theta\n",
    "        sum_delta = (alpha / m) * X.transpose().dot(errors);\n",
    "        theta = theta - sum_delta #- regularization; # theta (n,1)\n",
    "        loss_history[i] = compute_loss(X, Y, theta, lambda_value)\n",
    "    return theta, loss_history"
   ]
  },
  {
   "cell_type": "code",
   "execution_count": 325,
   "id": "9b699cad",
   "metadata": {},
   "outputs": [],
   "source": [
    "theta = [0., 0., 0., 0., 0., 0.]\n",
    "lambda_value = 10\n",
    "iterations = 1500\n",
    "alpha = 0.003"
   ]
  },
  {
   "cell_type": "code",
   "execution_count": 326,
   "id": "bf1f2eae",
   "metadata": {},
   "outputs": [
    {
     "name": "stdout",
     "output_type": "stream",
     "text": [
      "Final value of theta = [2.77157999e-17 3.77095804e-01 1.12385602e-01 2.93284379e-01\n",
      " 2.31610317e-01 1.55355656e-01]\n",
      "loss_history = [0.49722035 0.49447114 0.49175204 ... 0.23999523 0.23999518 0.23999513]\n"
     ]
    }
   ],
   "source": [
    "theta, loss_history = gradient_descent(X_train, Y_train, theta, alpha, iterations, lambda_value)\n",
    "print(\"Final value of theta =\", theta)\n",
    "print(\"loss_history =\", loss_history)"
   ]
  },
  {
   "cell_type": "code",
   "execution_count": 327,
   "id": "cb25223d",
   "metadata": {},
   "outputs": [
    {
     "data": {
      "text/html": [
       "<div>\n",
       "<style scoped>\n",
       "    .dataframe tbody tr th:only-of-type {\n",
       "        vertical-align: middle;\n",
       "    }\n",
       "\n",
       "    .dataframe tbody tr th {\n",
       "        vertical-align: top;\n",
       "    }\n",
       "\n",
       "    .dataframe thead th {\n",
       "        text-align: right;\n",
       "    }\n",
       "</style>\n",
       "<table border=\"1\" class=\"dataframe\">\n",
       "  <thead>\n",
       "    <tr style=\"text-align: right;\">\n",
       "      <th></th>\n",
       "      <th>area</th>\n",
       "      <th>bedrooms</th>\n",
       "      <th>bathrooms</th>\n",
       "      <th>stories</th>\n",
       "      <th>parking</th>\n",
       "      <th>price</th>\n",
       "    </tr>\n",
       "  </thead>\n",
       "  <tbody>\n",
       "    <tr>\n",
       "      <th>239</th>\n",
       "      <td>4000</td>\n",
       "      <td>3</td>\n",
       "      <td>1</td>\n",
       "      <td>2</td>\n",
       "      <td>1</td>\n",
       "      <td>4585000</td>\n",
       "    </tr>\n",
       "    <tr>\n",
       "      <th>113</th>\n",
       "      <td>9620</td>\n",
       "      <td>3</td>\n",
       "      <td>1</td>\n",
       "      <td>1</td>\n",
       "      <td>2</td>\n",
       "      <td>6083000</td>\n",
       "    </tr>\n",
       "    <tr>\n",
       "      <th>325</th>\n",
       "      <td>3460</td>\n",
       "      <td>4</td>\n",
       "      <td>1</td>\n",
       "      <td>2</td>\n",
       "      <td>0</td>\n",
       "      <td>4007500</td>\n",
       "    </tr>\n",
       "    <tr>\n",
       "      <th>66</th>\n",
       "      <td>13200</td>\n",
       "      <td>2</td>\n",
       "      <td>1</td>\n",
       "      <td>1</td>\n",
       "      <td>1</td>\n",
       "      <td>6930000</td>\n",
       "    </tr>\n",
       "    <tr>\n",
       "      <th>479</th>\n",
       "      <td>3660</td>\n",
       "      <td>4</td>\n",
       "      <td>1</td>\n",
       "      <td>2</td>\n",
       "      <td>0</td>\n",
       "      <td>2940000</td>\n",
       "    </tr>\n",
       "  </tbody>\n",
       "</table>\n",
       "</div>"
      ],
      "text/plain": [
       "      area  bedrooms  bathrooms  stories  parking    price\n",
       "239   4000         3          1        2        1  4585000\n",
       "113   9620         3          1        1        2  6083000\n",
       "325   3460         4          1        2        0  4007500\n",
       "66   13200         2          1        1        1  6930000\n",
       "479   3660         4          1        2        0  2940000"
      ]
     },
     "execution_count": 327,
     "metadata": {},
     "output_type": "execute_result"
    }
   ],
   "source": [
    "df_threeAtest.head()"
   ]
  },
  {
   "cell_type": "code",
   "execution_count": 328,
   "id": "4671e2d7",
   "metadata": {},
   "outputs": [
    {
     "data": {
      "text/html": [
       "<div>\n",
       "<style scoped>\n",
       "    .dataframe tbody tr th:only-of-type {\n",
       "        vertical-align: middle;\n",
       "    }\n",
       "\n",
       "    .dataframe tbody tr th {\n",
       "        vertical-align: top;\n",
       "    }\n",
       "\n",
       "    .dataframe thead th {\n",
       "        text-align: right;\n",
       "    }\n",
       "</style>\n",
       "<table border=\"1\" class=\"dataframe\">\n",
       "  <thead>\n",
       "    <tr style=\"text-align: right;\">\n",
       "      <th></th>\n",
       "      <th>area</th>\n",
       "      <th>bedrooms</th>\n",
       "      <th>bathrooms</th>\n",
       "      <th>stories</th>\n",
       "      <th>parking</th>\n",
       "      <th>price</th>\n",
       "    </tr>\n",
       "  </thead>\n",
       "  <tbody>\n",
       "    <tr>\n",
       "      <th>239</th>\n",
       "      <td>-0.528409</td>\n",
       "      <td>-0.007694</td>\n",
       "      <td>-0.550215</td>\n",
       "      <td>0.265241</td>\n",
       "      <td>0.442615</td>\n",
       "      <td>-0.095841</td>\n",
       "    </tr>\n",
       "    <tr>\n",
       "      <th>113</th>\n",
       "      <td>1.673306</td>\n",
       "      <td>-0.007694</td>\n",
       "      <td>-0.550215</td>\n",
       "      <td>-0.910424</td>\n",
       "      <td>1.652428</td>\n",
       "      <td>0.708470</td>\n",
       "    </tr>\n",
       "    <tr>\n",
       "      <th>325</th>\n",
       "      <td>-0.739961</td>\n",
       "      <td>1.254180</td>\n",
       "      <td>-0.550215</td>\n",
       "      <td>0.265241</td>\n",
       "      <td>-0.767199</td>\n",
       "      <td>-0.405914</td>\n",
       "    </tr>\n",
       "    <tr>\n",
       "      <th>66</th>\n",
       "      <td>3.075822</td>\n",
       "      <td>-1.269569</td>\n",
       "      <td>-0.550215</td>\n",
       "      <td>-0.910424</td>\n",
       "      <td>0.442615</td>\n",
       "      <td>1.163244</td>\n",
       "    </tr>\n",
       "    <tr>\n",
       "      <th>479</th>\n",
       "      <td>-0.661608</td>\n",
       "      <td>1.254180</td>\n",
       "      <td>-0.550215</td>\n",
       "      <td>0.265241</td>\n",
       "      <td>-0.767199</td>\n",
       "      <td>-0.979079</td>\n",
       "    </tr>\n",
       "  </tbody>\n",
       "</table>\n",
       "</div>"
      ],
      "text/plain": [
       "         area  bedrooms  bathrooms   stories   parking     price\n",
       "239 -0.528409 -0.007694  -0.550215  0.265241  0.442615 -0.095841\n",
       "113  1.673306 -0.007694  -0.550215 -0.910424  1.652428  0.708470\n",
       "325 -0.739961  1.254180  -0.550215  0.265241 -0.767199 -0.405914\n",
       "66   3.075822 -1.269569  -0.550215 -0.910424  0.442615  1.163244\n",
       "479 -0.661608  1.254180  -0.550215  0.265241 -0.767199 -0.979079"
      ]
     },
     "execution_count": 328,
     "metadata": {},
     "output_type": "execute_result"
    }
   ],
   "source": [
    "# Many columns contains small integer values excluding areas. Needs to rescale the variables.\n",
    "# Advised to use starndarization or normalization, so the coefficients is comparable. \n",
    "\n",
    "# Two ways of rescaling:\n",
    "# 1.) Min-Max Scaling\n",
    "# 2.) Standardization (For this code.)\n",
    "\n",
    "import warnings\n",
    "warnings.filterwarnings('ignore')\n",
    "\n",
    "from sklearn.preprocessing import MinMaxScaler, StandardScaler\n",
    "scaler = StandardScaler()\n",
    "df_threeAtest[num_vars] = scaler.fit_transform(df_threeAtest[num_vars])\n",
    "df_threeAtest.head()"
   ]
  },
  {
   "cell_type": "code",
   "execution_count": 329,
   "id": "c61883c8",
   "metadata": {},
   "outputs": [
    {
     "name": "stdout",
     "output_type": "stream",
     "text": [
      "[[-0.52840866 -0.00769436 -0.55021459  0.26524149  0.44261462 -0.09584075]\n",
      " [ 1.67330604 -0.00769436 -0.55021459 -0.91042351  1.65242793  0.70846983]\n",
      " [-0.73996132  1.25418015 -0.55021459  0.26524149 -0.76719868 -0.40591375]\n",
      " [ 3.07582182 -1.26956887 -0.55021459 -0.91042351  0.44261462  1.16324356]\n",
      " [-0.66160849  1.25418015 -0.55021459  0.26524149 -0.76719868 -0.97907899]\n",
      " [ 0.39223717 -0.00769436  1.29131996  1.44090649 -0.76719868  0.7686052 ]\n",
      " [-0.58717329 -0.00769436 -0.55021459 -0.91042351  1.65242793 -0.65960984]\n",
      " [-0.73212604 -0.00769436 -0.55021459  0.26524149  0.44261462 -0.97907899]\n",
      " [-0.71958958 -1.26956887 -0.55021459 -0.91042351  0.44261462 -0.67840214]\n",
      " [ 1.43041225  1.25418015  1.29131996  2.61657149  1.65242793  1.72701265]\n",
      " [ 0.2551197   1.25418015  1.29131996  2.61657149 -0.76719868  1.06928205]\n",
      " [-0.54407923 -0.00769436 -0.55021459  0.26524149 -0.76719868 -0.4153099 ]\n",
      " [-0.74387896 -0.00769436 -0.55021459  0.26524149 -0.76719868 -0.86632517]\n",
      " [ 0.27862555 -0.00769436 -0.55021459 -0.91042351 -0.76719868 -0.79115596]\n",
      " [ 0.24924324 -0.00769436 -0.55021459 -0.91042351 -0.76719868 -0.34014069]\n",
      " [-1.14347843 -0.00769436 -0.55021459 -0.91042351 -0.76719868 -1.12941742]\n",
      " [-0.1758209  -1.26956887 -0.55021459  0.26524149 -0.76719868 -0.18980226]\n",
      " [ 0.26295499 -0.00769436 -0.55021459 -0.91042351 -0.76719868 -0.56564832]\n",
      " [-0.88099643 -0.00769436 -0.55021459  0.26524149 -0.76719868 -0.75357135]\n",
      " [-0.33252657 -1.26956887 -0.55021459 -0.91042351  1.65242793 -0.26497147]]\n"
     ]
    }
   ],
   "source": [
    "dataset_test = df_threeAtest.values[:,:]\n",
    "print(dataset_test[:20,:])"
   ]
  },
  {
   "cell_type": "code",
   "execution_count": 330,
   "id": "0635b30c",
   "metadata": {},
   "outputs": [
    {
     "data": {
      "text/plain": [
       "(164, 164)"
      ]
     },
     "execution_count": 330,
     "metadata": {},
     "output_type": "execute_result"
    }
   ],
   "source": [
    "X_test = df_threeAtest.values[:,0:5]\n",
    "Y_test = df_threeAtest.values[:,5]\n",
    "len(X_test), len(Y_test)"
   ]
  },
  {
   "cell_type": "code",
   "execution_count": 331,
   "id": "705d3b42",
   "metadata": {},
   "outputs": [
    {
     "name": "stdout",
     "output_type": "stream",
     "text": [
      "X = [[-0.52840866 -0.00769436 -0.55021459  0.26524149  0.44261462]\n",
      " [ 1.67330604 -0.00769436 -0.55021459 -0.91042351  1.65242793]\n",
      " [-0.73996132  1.25418015 -0.55021459  0.26524149 -0.76719868]\n",
      " [ 3.07582182 -1.26956887 -0.55021459 -0.91042351  0.44261462]\n",
      " [-0.66160849  1.25418015 -0.55021459  0.26524149 -0.76719868]]\n",
      "Y = [-0.09584075  0.70846983 -0.40591375  1.16324356 -0.97907899]\n"
     ]
    }
   ],
   "source": [
    "print('X =', X_test[:5])\n",
    "print('Y =', Y_test[:5])"
   ]
  },
  {
   "cell_type": "code",
   "execution_count": 332,
   "id": "970a3401",
   "metadata": {},
   "outputs": [
    {
     "name": "stdout",
     "output_type": "stream",
     "text": [
      "X_1 = [[-0.52840866 -0.00769436 -0.55021459  0.26524149  0.44261462]\n",
      " [ 1.67330604 -0.00769436 -0.55021459 -0.91042351  1.65242793]\n",
      " [-0.73996132  1.25418015 -0.55021459  0.26524149 -0.76719868]\n",
      " [ 3.07582182 -1.26956887 -0.55021459 -0.91042351  0.44261462]\n",
      " [-0.66160849  1.25418015 -0.55021459  0.26524149 -0.76719868]]\n"
     ]
    }
   ],
   "source": [
    "# Convert to 2D array (164x5)\n",
    "m = len(X_test)\n",
    "X_1 = X_test.reshape(m,5)\n",
    "print(\"X_1 =\", X_1[:5,:])"
   ]
  },
  {
   "cell_type": "code",
   "execution_count": 333,
   "id": "7476db88",
   "metadata": {},
   "outputs": [
    {
     "data": {
      "text/plain": [
       "(array([[1.],\n",
       "        [1.],\n",
       "        [1.],\n",
       "        [1.],\n",
       "        [1.]]),\n",
       " 164)"
      ]
     },
     "execution_count": 333,
     "metadata": {},
     "output_type": "execute_result"
    }
   ],
   "source": [
    "# Create theta zero.\n",
    "m = len(X_test)\n",
    "X_0 = np.ones((m,1))\n",
    "X_0[:5], len(X_0)"
   ]
  },
  {
   "cell_type": "code",
   "execution_count": 334,
   "id": "a100a2cf",
   "metadata": {},
   "outputs": [
    {
     "data": {
      "text/plain": [
       "array([[ 1.        , -0.52840866, -0.00769436, -0.55021459,  0.26524149,\n",
       "         0.44261462],\n",
       "       [ 1.        ,  1.67330604, -0.00769436, -0.55021459, -0.91042351,\n",
       "         1.65242793],\n",
       "       [ 1.        , -0.73996132,  1.25418015, -0.55021459,  0.26524149,\n",
       "        -0.76719868],\n",
       "       [ 1.        ,  3.07582182, -1.26956887, -0.55021459, -0.91042351,\n",
       "         0.44261462],\n",
       "       [ 1.        , -0.66160849,  1.25418015, -0.55021459,  0.26524149,\n",
       "        -0.76719868]])"
      ]
     },
     "execution_count": 334,
     "metadata": {},
     "output_type": "execute_result"
    }
   ],
   "source": [
    "X_test = np.hstack((X_0, X_1))\n",
    "X_test[:5]"
   ]
  },
  {
   "cell_type": "code",
   "execution_count": 335,
   "id": "3462f074",
   "metadata": {},
   "outputs": [
    {
     "data": {
      "text/plain": [
       "array([[0.],\n",
       "       [0.],\n",
       "       [0.],\n",
       "       [0.],\n",
       "       [0.],\n",
       "       [0.]])"
      ]
     },
     "execution_count": 335,
     "metadata": {},
     "output_type": "execute_result"
    }
   ],
   "source": [
    "theta_test = np.zeros((6,1))\n",
    "theta_test"
   ]
  },
  {
   "cell_type": "code",
   "execution_count": 336,
   "id": "46d2962a",
   "metadata": {},
   "outputs": [],
   "source": [
    "\"\"\"\n",
    "Compute loss for linear regression for one time.\n",
    "\n",
    "Input Parameters\n",
    "X : 2D array for training example\n",
    "    m = number of training examples\n",
    "    n = number of features\n",
    "Y : 1D array of label/target values. Dimension: m\n",
    "\n",
    "theta : 2D array of fitting parameters. Dimension: n,1\n",
    "\n",
    "Output Parameters\n",
    "J : Loss\n",
    "\"\"\"\n",
    "\n",
    "def compute_loss_noreg(X, Y, theta):\n",
    "    predictions = X.dot(theta) #prediction = h\n",
    "    errors = np.subtract(predictions, Y)\n",
    "    sqrErrors = np.square(errors)\n",
    "    J = 1 / (2 * m) * np.sum(sqrErrors)\n",
    "    return J"
   ]
  },
  {
   "cell_type": "code",
   "execution_count": 337,
   "id": "b27e49ea",
   "metadata": {},
   "outputs": [
    {
     "name": "stdout",
     "output_type": "stream",
     "text": [
      "Cost loss for all given theta = 82.00000000000001\n"
     ]
    }
   ],
   "source": [
    "cost_test = compute_loss_noreg(X_test, Y_test, theta_test)\n",
    "print(\"Cost loss for all given theta =\", cost_test)"
   ]
  },
  {
   "cell_type": "code",
   "execution_count": 338,
   "id": "c4ff4fe4",
   "metadata": {},
   "outputs": [],
   "source": [
    "\"\"\"\n",
    "Compute loss for l inear regression for all iterations\n",
    "\n",
    "Input Parameters\n",
    "X: 2D array, Dimension: m x n\n",
    "    m = number of training data point\n",
    "    n = number of features\n",
    "Y: 1D array of labels/target value for each training data point. Dimension: m\n",
    "theta: 2D array of fitting parameters or weights. Dimension: (n,1)\n",
    "alpha : learning rate\n",
    "iterations: Number of iterations.\n",
    "\n",
    "Output Parameters\n",
    "theta: Final Value. 2D array of fitting parameters or weights. Dimension: n,1\n",
    "loss_history: Contains value of cost at each iteration. 1D Array. Dimension: m\n",
    "\"\"\"\n",
    "\n",
    "def gradient_descent_noreg(X, Y, theta, alpha, iterations):\n",
    "    loss_history = np.zeros(iterations)\n",
    "    \n",
    "    for i in range(iterations):\n",
    "        predictions = X.dot(theta) # prediction (m,1) = temp\n",
    "        errors = np.subtract(predictions, Y)\n",
    "        sum_delta = (alpha / m) * X.transpose().dot(errors);\n",
    "        theta = theta - sum_delta; # theta (n,1)\n",
    "        loss_history[i] = compute_loss_noreg(X, Y, theta)\n",
    "    return theta, loss_history"
   ]
  },
  {
   "cell_type": "code",
   "execution_count": 339,
   "id": "c5f4f7a4",
   "metadata": {},
   "outputs": [],
   "source": [
    "theta_test = [0., 0., 0., 0., 0., 0.]\n",
    "iterations = 1500\n",
    "alpha = 0.003"
   ]
  },
  {
   "cell_type": "code",
   "execution_count": 340,
   "id": "d8ef82f8",
   "metadata": {},
   "outputs": [
    {
     "name": "stdout",
     "output_type": "stream",
     "text": [
      "Final value of theta = [6.59634948e-18 3.93389051e-01 1.06101860e-02 3.31775042e-01\n",
      " 2.61393069e-01 2.15625583e-01]\n",
      "loss_history = [0.49629294 0.49262992 0.48901041 ... 0.17273425 0.17273381 0.17273337]\n"
     ]
    }
   ],
   "source": [
    "theta_test, loss_history_test = gradient_descent_noreg(X_test, Y_test, theta_test, alpha, iterations)\n",
    "print(\"Final value of theta =\", theta_test)\n",
    "print(\"loss_history =\", loss_history_test)"
   ]
  },
  {
   "cell_type": "code",
   "execution_count": 341,
   "id": "0ca2f1ee",
   "metadata": {},
   "outputs": [
    {
     "data": {
      "text/plain": [
       "Text(0.5, 1.0, 'Convergence of gradient descent')"
      ]
     },
     "execution_count": 341,
     "metadata": {},
     "output_type": "execute_result"
    },
    {
     "data": {
      "image/png": "[encoded data removed]",
      "text/plain": [
       "<Figure size 864x576 with 1 Axes>"
      ]
     },
     "metadata": {
      "needs_background": "light"
     },
     "output_type": "display_data"
    }
   ],
   "source": [
    "plt.plot(range(1, iterations + 1), loss_history, color = 'black')\n",
    "plt.plot(range(1, iterations + 1), loss_history_test, color = 'blue')\n",
    "plt.rcParams[\"figure.figsize\"] = [12,8]\n",
    "plt.grid()\n",
    "plt.legend(['Training Sets', 'Validation Sets'])\n",
    "plt.xlabel(\"Numbers of iterations\")\n",
    "plt.ylabel(\"Loss (J)\")\n",
    "plt.title(\"Convergence of gradient descent\")"
   ]
  },
  {
   "cell_type": "code",
   "execution_count": null,
   "id": "12342df7",
   "metadata": {},
   "outputs": [],
   "source": []
  }
 ],
 "metadata": {
  "kernelspec": {
   "display_name": "Python 3 (ipykernel)",
   "language": "python",
   "name": "python3"
  },
  "language_info": {
   "codemirror_mode": {
    "name": "ipython",
    "version": 3
   },
   "file_extension": ".py",
   "mimetype": "text/x-python",
   "name": "python",
   "nbconvert_exporter": "python",
   "pygments_lexer": "ipython3",
   "version": "3.9.12"
  }
 },
 "nbformat": 4,
 "nbformat_minor": 5
}
