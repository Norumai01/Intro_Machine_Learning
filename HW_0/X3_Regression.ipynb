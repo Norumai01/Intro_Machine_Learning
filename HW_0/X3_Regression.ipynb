{
 "cells": [
  {
   "cell_type": "code",
   "execution_count": 1,
   "id": "3f25dbbc",
   "metadata": {},
   "outputs": [],
   "source": [
    "import numpy as np\n",
    "import pandas as pd\n",
    "import matplotlib.pyplot as plt"
   ]
  },
  {
   "cell_type": "code",
   "execution_count": 2,
   "id": "5e678659",
   "metadata": {},
   "outputs": [
    {
     "data": {
      "text/html": [
       "<div>\n",
       "<style scoped>\n",
       "    .dataframe tbody tr th:only-of-type {\n",
       "        vertical-align: middle;\n",
       "    }\n",
       "\n",
       "    .dataframe tbody tr th {\n",
       "        vertical-align: top;\n",
       "    }\n",
       "\n",
       "    .dataframe thead th {\n",
       "        text-align: right;\n",
       "    }\n",
       "</style>\n",
       "<table border=\"1\" class=\"dataframe\">\n",
       "  <thead>\n",
       "    <tr style=\"text-align: right;\">\n",
       "      <th></th>\n",
       "      <th>X1</th>\n",
       "      <th>X2</th>\n",
       "      <th>X3</th>\n",
       "      <th>Y</th>\n",
       "    </tr>\n",
       "  </thead>\n",
       "  <tbody>\n",
       "    <tr>\n",
       "      <th>0</th>\n",
       "      <td>0.000000</td>\n",
       "      <td>3.440000</td>\n",
       "      <td>0.440000</td>\n",
       "      <td>4.387545</td>\n",
       "    </tr>\n",
       "    <tr>\n",
       "      <th>1</th>\n",
       "      <td>0.040404</td>\n",
       "      <td>0.134949</td>\n",
       "      <td>0.888485</td>\n",
       "      <td>2.679650</td>\n",
       "    </tr>\n",
       "    <tr>\n",
       "      <th>2</th>\n",
       "      <td>0.080808</td>\n",
       "      <td>0.829899</td>\n",
       "      <td>1.336970</td>\n",
       "      <td>2.968490</td>\n",
       "    </tr>\n",
       "    <tr>\n",
       "      <th>3</th>\n",
       "      <td>0.121212</td>\n",
       "      <td>1.524848</td>\n",
       "      <td>1.785455</td>\n",
       "      <td>3.254065</td>\n",
       "    </tr>\n",
       "    <tr>\n",
       "      <th>4</th>\n",
       "      <td>0.161616</td>\n",
       "      <td>2.219798</td>\n",
       "      <td>2.233939</td>\n",
       "      <td>3.536375</td>\n",
       "    </tr>\n",
       "    <tr>\n",
       "      <th>...</th>\n",
       "      <td>...</td>\n",
       "      <td>...</td>\n",
       "      <td>...</td>\n",
       "      <td>...</td>\n",
       "    </tr>\n",
       "    <tr>\n",
       "      <th>95</th>\n",
       "      <td>3.838384</td>\n",
       "      <td>1.460202</td>\n",
       "      <td>3.046061</td>\n",
       "      <td>-4.440595</td>\n",
       "    </tr>\n",
       "    <tr>\n",
       "      <th>96</th>\n",
       "      <td>3.878788</td>\n",
       "      <td>2.155152</td>\n",
       "      <td>3.494545</td>\n",
       "      <td>-4.458663</td>\n",
       "    </tr>\n",
       "    <tr>\n",
       "      <th>97</th>\n",
       "      <td>3.919192</td>\n",
       "      <td>2.850101</td>\n",
       "      <td>3.943030</td>\n",
       "      <td>-4.479995</td>\n",
       "    </tr>\n",
       "    <tr>\n",
       "      <th>98</th>\n",
       "      <td>3.959596</td>\n",
       "      <td>3.545051</td>\n",
       "      <td>0.391515</td>\n",
       "      <td>-3.304593</td>\n",
       "    </tr>\n",
       "    <tr>\n",
       "      <th>99</th>\n",
       "      <td>4.000000</td>\n",
       "      <td>0.240000</td>\n",
       "      <td>0.840000</td>\n",
       "      <td>-5.332455</td>\n",
       "    </tr>\n",
       "  </tbody>\n",
       "</table>\n",
       "<p>100 rows × 4 columns</p>\n",
       "</div>"
      ],
      "text/plain": [
       "          X1        X2        X3         Y\n",
       "0   0.000000  3.440000  0.440000  4.387545\n",
       "1   0.040404  0.134949  0.888485  2.679650\n",
       "2   0.080808  0.829899  1.336970  2.968490\n",
       "3   0.121212  1.524848  1.785455  3.254065\n",
       "4   0.161616  2.219798  2.233939  3.536375\n",
       "..       ...       ...       ...       ...\n",
       "95  3.838384  1.460202  3.046061 -4.440595\n",
       "96  3.878788  2.155152  3.494545 -4.458663\n",
       "97  3.919192  2.850101  3.943030 -4.479995\n",
       "98  3.959596  3.545051  0.391515 -3.304593\n",
       "99  4.000000  0.240000  0.840000 -5.332455\n",
       "\n",
       "[100 rows x 4 columns]"
      ]
     },
     "execution_count": 2,
     "metadata": {},
     "output_type": "execute_result"
    }
   ],
   "source": [
    "#\n",
    "df = pd.read_csv('C:\\\\Users\\\\jnguy\\\\Documents\\\\Juypter_Notebook\\\\HW_0\\\\D3.csv')\n",
    "df.head(100)"
   ]
  },
  {
   "cell_type": "code",
   "execution_count": 3,
   "id": "5f2b9b5a",
   "metadata": {},
   "outputs": [
    {
     "name": "stdout",
     "output_type": "stream",
     "text": [
      "[[0.         3.44       0.44       4.38754501]\n",
      " [0.04040404 0.1349495  0.88848485 2.6796499 ]\n",
      " [0.08080808 0.82989899 1.3369697  2.96848981]\n",
      " [0.12121212 1.52484848 1.78545454 3.25406475]\n",
      " [0.16161616 2.21979798 2.23393939 3.53637472]\n",
      " [0.2020202  2.91474747 2.68242424 3.81541972]\n",
      " [0.24242424 3.60969697 3.13090909 4.09119974]\n",
      " [0.28282828 0.30464646 3.57939394 2.36371479]\n",
      " [0.32323232 0.99959596 0.02787879 3.83296487]\n",
      " [0.36363636 1.69454546 0.47636364 4.09894997]\n",
      " [0.4040404  2.38949495 0.92484849 4.3616701 ]\n",
      " [0.44444444 3.08444444 1.37333333 4.62112526]\n",
      " [0.48484848 3.77939394 1.82181818 4.87731544]\n",
      " [0.52525252 0.47434343 2.27030303 3.13024065]\n",
      " [0.56565657 1.16929293 2.71878788 3.37990089]\n",
      " [0.60606061 1.86424242 3.16727273 3.62629616]\n",
      " [0.64646465 2.55919192 3.61575758 3.86942645]\n",
      " [0.68686869 3.25414141 0.06424242 5.30929177]\n",
      " [0.72727273 3.94909091 0.51272727 5.54589212]\n",
      " [0.76767677 0.6440404  0.96121212 3.77922749]]\n"
     ]
    }
   ],
   "source": [
    "dataset = df.values[:,:]\n",
    "print(dataset[:20,:])"
   ]
  },
  {
   "cell_type": "code",
   "execution_count": 4,
   "id": "760e8bf4",
   "metadata": {},
   "outputs": [
    {
     "data": {
      "text/plain": [
       "(100, 100)"
      ]
     },
     "execution_count": 4,
     "metadata": {},
     "output_type": "execute_result"
    }
   ],
   "source": [
    "X = df.values[:,2]\n",
    "Y = df.values[:,3]\n",
    "len(X), len(Y)"
   ]
  },
  {
   "cell_type": "code",
   "execution_count": 5,
   "id": "6aeef7e7",
   "metadata": {},
   "outputs": [
    {
     "name": "stdout",
     "output_type": "stream",
     "text": [
      "X = [0.44       0.88848485 1.3369697  1.78545454 2.23393939]\n",
      "Y = [4.38754501 2.6796499  2.96848981 3.25406475 3.53637472]\n"
     ]
    }
   ],
   "source": [
    "print('X =', X[:5])\n",
    "print('Y =', Y[:5])"
   ]
  },
  {
   "cell_type": "code",
   "execution_count": 6,
   "id": "ef0b398e",
   "metadata": {},
   "outputs": [
    {
     "data": {
      "text/plain": [
       "Text(0.5, 1.0, 'Training Data of X3')"
      ]
     },
     "execution_count": 6,
     "metadata": {},
     "output_type": "execute_result"
    },
    {
     "data": {
      "image/png": "[encoded data removed]",
      "text/plain": [
       "<Figure size 432x288 with 1 Axes>"
      ]
     },
     "metadata": {
      "needs_background": "light"
     },
     "output_type": "display_data"
    }
   ],
   "source": [
    "plt.scatter(X,Y, color='red', marker='+')\n",
    "plt.grid()\n",
    "plt.rcParams[\"figure.figsize\"] = [7,7]\n",
    "plt.xlabel('X_3')\n",
    "plt.ylabel('Y')\n",
    "plt.title('Training Data of X3')"
   ]
  },
  {
   "cell_type": "code",
   "execution_count": 7,
   "id": "a900d1ad",
   "metadata": {},
   "outputs": [
    {
     "name": "stdout",
     "output_type": "stream",
     "text": [
      "X_3 = [[0.44      ]\n",
      " [0.88848485]\n",
      " [1.3369697 ]\n",
      " [1.78545454]\n",
      " [2.23393939]]\n"
     ]
    }
   ],
   "source": [
    "# Reshape function to convert 1D array to 2D array (100x1)\n",
    "m = len(X)\n",
    "X_1 = X.reshape(m,1)\n",
    "print(\"X_3 =\", X_1[:5,:])"
   ]
  },
  {
   "cell_type": "code",
   "execution_count": 8,
   "id": "fe21b3ff",
   "metadata": {},
   "outputs": [
    {
     "data": {
      "text/plain": [
       "(array([[1.],\n",
       "        [1.],\n",
       "        [1.],\n",
       "        [1.],\n",
       "        [1.]]),\n",
       " 100)"
      ]
     },
     "execution_count": 8,
     "metadata": {},
     "output_type": "execute_result"
    }
   ],
   "source": [
    "# Create a single column of ones (X_0)\n",
    "m = len(X)\n",
    "X_0 = np.ones((m,1))\n",
    "X_0[:5], len(X_0)"
   ]
  },
  {
   "cell_type": "code",
   "execution_count": 9,
   "id": "546be86e",
   "metadata": {},
   "outputs": [
    {
     "data": {
      "text/plain": [
       "array([[1.        , 0.44      ],\n",
       "       [1.        , 0.88848485],\n",
       "       [1.        , 1.3369697 ],\n",
       "       [1.        , 1.78545454],\n",
       "       [1.        , 2.23393939]])"
      ]
     },
     "execution_count": 9,
     "metadata": {},
     "output_type": "execute_result"
    }
   ],
   "source": [
    "X = np.hstack((X_0, X_1))\n",
    "X[:5]"
   ]
  },
  {
   "cell_type": "code",
   "execution_count": 10,
   "id": "695a6c30",
   "metadata": {},
   "outputs": [
    {
     "data": {
      "text/plain": [
       "array([[0.],\n",
       "       [0.]])"
      ]
     },
     "execution_count": 10,
     "metadata": {},
     "output_type": "execute_result"
    }
   ],
   "source": [
    "theta = np.zeros((2,1))\n",
    "theta"
   ]
  },
  {
   "cell_type": "code",
   "execution_count": 11,
   "id": "389bac71",
   "metadata": {},
   "outputs": [],
   "source": [
    "\"\"\"\n",
    "Compute loss for linear regression for one time.\n",
    "\n",
    "Input Parameters\n",
    "X : 2D array for training example\n",
    "    m = number of training examples\n",
    "    n = number of features\n",
    "Y : 1D array of label/target values. Dimension: m\n",
    "\n",
    "theta : 2D array of fitting parameters. Dimension: n,1\n",
    "\n",
    "Output Parameters\n",
    "J : Loss\n",
    "\"\"\"\n",
    "\n",
    "def compute_loss(X, Y, theta):\n",
    "    predictions = X.dot(theta) #prediction = h\n",
    "    errors = np.subtract(predictions, Y)\n",
    "    sqrErrors = np.square(errors)\n",
    "    J = 1 / (2 * m) * np.sum(sqrErrors)\n",
    "    \n",
    "    return J"
   ]
  },
  {
   "cell_type": "code",
   "execution_count": 12,
   "id": "6b0ce90e",
   "metadata": {},
   "outputs": [
    {
     "name": "stdout",
     "output_type": "stream",
     "text": [
      "The cost for given theta_0 and theta_3 = 552.4438459196241\n"
     ]
    }
   ],
   "source": [
    "# Compute the cost for theta values\n",
    "cost = compute_loss(X, Y, theta)\n",
    "print(\"The cost for given theta_0 and theta_3 =\", cost)"
   ]
  },
  {
   "cell_type": "code",
   "execution_count": 13,
   "id": "eeeed475",
   "metadata": {},
   "outputs": [],
   "source": [
    "\"\"\"\n",
    "Compute loss for l inear regression for all iterations\n",
    "\n",
    "Input Parameters\n",
    "X: 2D array, Dimension: m x n\n",
    "    m = number of training data point\n",
    "    n = number of features\n",
    "Y: 1D array of labels/target value for each training data point. Dimension: m\n",
    "theta: 2D array of fitting parameters or weights. Dimension: (n,1)\n",
    "alpha : learning rate\n",
    "iterations: Number of iterations.\n",
    "\n",
    "Output Parameters\n",
    "theta: Final Value. 2D array of fitting parameters or weights. Dimension: n,1\n",
    "loss_history: Contains value of cost at each iteration. 1D Array. Dimension: m\n",
    "\"\"\"\n",
    "def gradient_descent(X, Y, theta, alpha, iterations):\n",
    "    loss_history = np.zeros(iterations)\n",
    "    \n",
    "    for i in range(iterations):\n",
    "        predictions = X.dot(theta) # prediction (m,1) = temp\n",
    "        errors = np.subtract(predictions, Y)\n",
    "        sum_delta = (alpha / m) * X.transpose().dot(errors);\n",
    "        theta = theta - sum_delta; # theta (n,1)\n",
    "        loss_history[i] = compute_loss(X, Y, theta)\n",
    "    return theta, loss_history"
   ]
  },
  {
   "cell_type": "code",
   "execution_count": 14,
   "id": "df8cbaee",
   "metadata": {},
   "outputs": [],
   "source": [
    "theta = [0., 0.]\n",
    "iterations = 500\n",
    "alpha = 0.008"
   ]
  },
  {
   "cell_type": "code",
   "execution_count": 15,
   "id": "0b4d8900",
   "metadata": {},
   "outputs": [
    {
     "name": "stdout",
     "output_type": "stream",
     "text": [
      "Final value of theta = [ 1.78966872 -0.09265557]\n",
      "loss_history = [5.43048418 5.34497394 5.26712331 5.19622082 5.13162119 5.07273917\n",
      " 5.01904394 4.97005405 4.92533283 4.88448424 4.84714906 4.81300151\n",
      " 4.78174607 4.75311475 4.72686445 4.70277471 4.68064554 4.66029559\n",
      " 4.64156034 4.62429059 4.60835102 4.59361887 4.57998283 4.56734191\n",
      " 4.55560452 4.5446876  4.53451581 4.52502078 4.51614055 4.50781889\n",
      " 4.50000479 4.492652   4.48571856 4.47916642 4.47296105 4.46707114\n",
      " 4.46146828 4.45612671 4.45102307 4.44613613 4.44144668 4.43693727\n",
      " 4.43259207 4.42839673 4.42433821 4.4204047  4.41658548 4.41287082\n",
      " 4.4092519  4.40572071 4.40226998 4.39889312 4.39558414 4.39233762\n",
      " 4.38914863 4.38601269 4.38292575 4.37988411 4.37688444 4.3739237\n",
      " 4.37099913 4.36810822 4.36524869 4.3624185  4.35961574 4.35683873\n",
      " 4.35408591 4.35135587 4.34864733 4.34595913 4.3432902  4.34063959\n",
      " 4.33800641 4.33538987 4.33278925 4.33020387 4.32763313 4.32507649\n",
      " 4.32253344 4.32000352 4.31748632 4.31498145 4.31248856 4.31000734\n",
      " 4.30753748 4.30507872 4.30263082 4.30019354 4.29776668 4.29535004\n",
      " 4.29294346 4.29054676 4.2881598  4.28578243 4.28341454 4.28105599\n",
      " 4.27870668 4.27636649 4.27403535 4.27171315 4.26939981 4.26709525\n",
      " 4.26479939 4.26251217 4.26023352 4.25796337 4.25570167 4.25344836\n",
      " 4.25120338 4.24896668 4.24673822 4.24451794 4.2423058  4.24010175\n",
      " 4.23790576 4.23571777 4.23353776 4.23136568 4.2292015  4.22704518\n",
      " 4.22489667 4.22275596 4.220623   4.21849776 4.21638021 4.21427031\n",
      " 4.21216804 4.21007336 4.20798624 4.20590666 4.20383457 4.20176996\n",
      " 4.19971279 4.19766303 4.19562066 4.19358565 4.19155796 4.18953758\n",
      " 4.18752447 4.18551861 4.18351997 4.18152852 4.17954423 4.17756709\n",
      " 4.17559706 4.17363411 4.17167823 4.16972938 4.16778754 4.16585268\n",
      " 4.16392478 4.16200382 4.16008976 4.15818258 4.15628226 4.15438877\n",
      " 4.15250209 4.15062219 4.14874906 4.14688265 4.14502295 4.14316994\n",
      " 4.14132359 4.13948388 4.13765078 4.13582427 4.13400433 4.13219092\n",
      " 4.13038404 4.12858365 4.12678973 4.12500226 4.12322121 4.12144657\n",
      " 4.1196783  4.11791639 4.11616081 4.11441154 4.11266856 4.11093185\n",
      " 4.10920137 4.10747712 4.10575906 4.10404718 4.10234145 4.10064185\n",
      " 4.09894836 4.09726096 4.09557962 4.09390432 4.09223505 4.09057177\n",
      " 4.08891447 4.08726313 4.08561773 4.08397824 4.08234464 4.08071691\n",
      " 4.07909503 4.07747898 4.07586874 4.07426429 4.0726656  4.07107266\n",
      " 4.06948544 4.06790393 4.0663281  4.06475794 4.06319342 4.06163452\n",
      " 4.06008123 4.05853352 4.05699137 4.05545476 4.05392368 4.0523981\n",
      " 4.050878   4.04936336 4.04785417 4.0463504  4.04485204 4.04335907\n",
      " 4.04187145 4.04038919 4.03891225 4.03744062 4.03597428 4.03451321\n",
      " 4.03305739 4.03160681 4.03016144 4.02872126 4.02728625 4.02585641\n",
      " 4.0244317  4.02301212 4.02159764 4.02018824 4.0187839  4.01738462\n",
      " 4.01599036 4.01460111 4.01321686 4.01183758 4.01046326 4.00909388\n",
      " 4.00772942 4.00636986 4.00501519 4.00366539 4.00232044 4.00098033\n",
      " 3.99964503 3.99831453 3.99698881 3.99566786 3.99435165 3.99304017\n",
      " 3.99173341 3.99043135 3.98913396 3.98784124 3.98655316 3.98526971\n",
      " 3.98399088 3.98271664 3.98144698 3.98018189 3.97892134 3.97766532\n",
      " 3.97641382 3.97516681 3.97392429 3.97268623 3.97145262 3.97022345\n",
      " 3.96899869 3.96777833 3.96656236 3.96535076 3.96414352 3.96294061\n",
      " 3.96174203 3.96054776 3.95935778 3.95817207 3.95699063 3.95581343\n",
      " 3.95464046 3.95347171 3.95230716 3.9511468  3.9499906  3.94883856\n",
      " 3.94769066 3.94654689 3.94540723 3.94427166 3.94314018 3.94201276\n",
      " 3.94088939 3.93977006 3.93865476 3.93754346 3.93643616 3.93533283\n",
      " 3.93423348 3.93313807 3.9320466  3.93095905 3.92987541 3.92879567\n",
      " 3.92771981 3.92664781 3.92557967 3.92451536 3.92345488 3.92239821\n",
      " 3.92134534 3.92029626 3.91925094 3.91820938 3.91717157 3.91613748\n",
      " 3.91510711 3.91408045 3.91305747 3.91203817 3.91102254 3.91001055\n",
      " 3.9090022  3.90799748 3.90699637 3.90599885 3.90500492 3.90401456\n",
      " 3.90302777 3.90204451 3.9010648  3.9000886  3.89911591 3.89814672\n",
      " 3.89718101 3.89621877 3.89525999 3.89430466 3.89335276 3.89240428\n",
      " 3.89145921 3.89051753 3.88957925 3.88864433 3.88771277 3.88678456\n",
      " 3.88585969 3.88493814 3.88401991 3.88310497 3.88219332 3.88128495\n",
      " 3.88037984 3.87947799 3.87857938 3.877684   3.87679183 3.87590287\n",
      " 3.87501711 3.87413453 3.87325512 3.87237888 3.87150578 3.87063582\n",
      " 3.86976898 3.86890527 3.86804465 3.86718713 3.8663327  3.86548133\n",
      " 3.86463302 3.86378776 3.86294554 3.86210635 3.86127017 3.860437\n",
      " 3.85960682 3.85877963 3.85795541 3.85713415 3.85631584 3.85550047\n",
      " 3.85468804 3.85387852 3.85307192 3.85226821 3.85146739 3.85066945\n",
      " 3.84987438 3.84908216 3.84829279 3.84750626 3.84672256 3.84594167\n",
      " 3.84516359 3.84438831 3.84361581 3.84284609 3.84207913 3.84131493\n",
      " 3.84055348 3.83979477 3.83903878 3.83828551 3.83753494 3.83678708\n",
      " 3.8360419  3.8352994  3.83455957 3.83382239 3.83308787 3.83235599\n",
      " 3.83162674 3.8309001  3.83017608 3.82945466 3.82873584 3.8280196\n",
      " 3.82730593 3.82659483 3.82588628 3.82518028 3.82447682 3.82377588\n",
      " 3.82307747 3.82238156 3.82168816 3.82099725 3.82030882 3.81962286\n",
      " 3.81893937 3.81825834 3.81757976 3.81690361 3.81622989 3.8155586\n",
      " 3.81488972 3.81422324 3.81355916 3.81289746 3.81223814 3.81158119\n",
      " 3.81092661 3.81027437 3.80962448 3.80897693 3.8083317  3.80768879\n",
      " 3.8070482  3.8064099  3.8057739  3.80514018 3.80450875 3.80387958\n",
      " 3.80325267 3.80262802 3.80200561 3.80138544 3.8007675  3.80015177\n",
      " 3.79953826 3.79892696 3.79831785 3.79771094 3.7971062  3.79650364\n",
      " 3.79590324 3.795305   3.79470891 3.79411496 3.79352315 3.79293347\n",
      " 3.7923459  3.79176045 3.7911771  3.79059584 3.79001668 3.7894396\n",
      " 3.78886459 3.78829165 3.78772076 3.78715193 3.78658515 3.7860204\n",
      " 3.78545768 3.78489698 3.7843383  3.78378162 3.78322695 3.78267427\n",
      " 3.78212357 3.78157486]\n"
     ]
    }
   ],
   "source": [
    "theta, loss_history = gradient_descent(X, Y, theta, alpha, iterations)\n",
    "print(\"Final value of theta =\", theta)\n",
    "print(\"loss_history =\", loss_history)"
   ]
  },
  {
   "cell_type": "code",
   "execution_count": 16,
   "id": "969f99e8",
   "metadata": {},
   "outputs": [
    {
     "data": {
      "text/plain": [
       "<matplotlib.legend.Legend at 0x14bedc3ccd0>"
      ]
     },
     "execution_count": 16,
     "metadata": {},
     "output_type": "execute_result"
    },
    {
     "data": {
      "image/png": "[encoded data removed]",
      "text/plain": [
       "<Figure size 504x504 with 1 Axes>"
      ]
     },
     "metadata": {
      "needs_background": "light"
     },
     "output_type": "display_data"
    }
   ],
   "source": [
    "# Graphing linear regression with training data points\n",
    "plt.scatter(X[:,1], Y, color='red', marker='+', label= 'Training Data')\n",
    "plt.plot(X[:,1], X.dot(theta), color='green', label= 'Linear Regression')\n",
    "plt.rcParams[\"figure.figsize\"] = [12,8]\n",
    "plt.grid()\n",
    "plt.xlabel(\"X_3\")\n",
    "plt.ylabel(\"Y\")\n",
    "plt.title(\"X_3 Training with Linear Regression Fit\")\n",
    "plt.legend()"
   ]
  },
  {
   "cell_type": "code",
   "execution_count": 18,
   "id": "5045d0eb",
   "metadata": {},
   "outputs": [
    {
     "data": {
      "text/plain": [
       "Text(0.5, 1.0, 'Convergence of gradient descent of X3')"
      ]
     },
     "execution_count": 18,
     "metadata": {},
     "output_type": "execute_result"
    },
    {
     "data": {
      "image/png": "[encoded data removed]",
      "text/plain": [
       "<Figure size 864x576 with 1 Axes>"
      ]
     },
     "metadata": {
      "needs_background": "light"
     },
     "output_type": "display_data"
    }
   ],
   "source": [
    "plt.plot(range(1, iterations + 1), loss_history, color = 'black')\n",
    "plt.rcParams[\"figure.figsize\"] = [12,8]\n",
    "plt.grid()\n",
    "plt.xlabel(\"Numbers of iterations\")\n",
    "plt.ylabel(\"Loss (J)\")\n",
    "plt.title(\"Convergence of gradient descent of X3\")"
   ]
  },
  {
   "cell_type": "code",
   "execution_count": null,
   "id": "697cb086",
   "metadata": {},
   "outputs": [],
   "source": []
  },
  {
   "cell_type": "code",
   "execution_count": null,
   "id": "ed6cacf3",
   "metadata": {},
   "outputs": [],
   "source": []
  }
 ],
 "metadata": {
  "kernelspec": {
   "display_name": "Python 3 (ipykernel)",
   "language": "python",
   "name": "python3"
  },
  "language_info": {
   "codemirror_mode": {
    "name": "ipython",
    "version": 3
   },
   "file_extension": ".py",
   "mimetype": "text/x-python",
   "name": "python",
   "nbconvert_exporter": "python",
   "pygments_lexer": "ipython3",
   "version": "3.9.12"
  }
 },
 "nbformat": 4,
 "nbformat_minor": 5
}
